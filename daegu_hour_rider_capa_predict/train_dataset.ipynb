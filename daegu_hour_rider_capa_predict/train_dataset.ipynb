{
 "cells": [
  {
   "cell_type": "code",
   "execution_count": null,
   "metadata": {},
   "outputs": [],
   "source": [
    "import pandas as pd\n",
    "import numpy as np\n",
    "import requests \n",
    "from datetime import datetime, date\n"
   ]
  },
  {
   "cell_type": "code",
   "execution_count": null,
   "metadata": {},
   "outputs": [],
   "source": [
    "# 1. data load\n",
    "data1 = pd.read_excel(\"/Users/yj.noh/Desktop/train_data_2022.xlsx\")\n",
    "data2 = pd.read_excel(\"/Users/yj.noh/Desktop/train_data_2023.xlsx\")\n",
    "\n",
    "data = pd.concat([data1, data2])\n",
    "data.rename(columns = {'라이더수':'rider_cnt', '주문수':'order_cnt'}, inplace = True)\n",
    "\n",
    "print(data.shape) #807,452"
   ]
  },
  {
   "cell_type": "code",
   "execution_count": null,
   "metadata": {},
   "outputs": [],
   "source": [
    "# 2. seoul, 9~23시만\n",
    "# Filter data\n",
    "data['reg_date'] = pd.to_datetime(data['reg_date'])\n",
    "data = data[data['pick_rgn1_nm'] == '서울특별시']\n",
    "data = data[data['reg_date'] < data['reg_date'].max()]\n",
    "data = data[data['hour_reg'].isin(range(9, 24))]\n",
    "\n",
    "print(data.shape) #189,750"
   ]
  },
  {
   "cell_type": "code",
   "execution_count": null,
   "metadata": {},
   "outputs": [],
   "source": [
    "# datetime 컬럼 만들기 \n",
    "\n",
    "data['datetime'] = data['reg_date'] + pd.to_timedelta(data['hour_reg'], unit='h')\n",
    "print(data['datetime'].min(), data['datetime'].max())"
   ]
  },
  {
   "cell_type": "code",
   "execution_count": null,
   "metadata": {},
   "outputs": [],
   "source": [
    "data['reg_date'] = pd.to_datetime(data['reg_date'])\n",
    "\n",
    "data['hour_reg2'] = data['datetime'].dt.hour\n",
    "data['reg_date2'] = data['datetime'].dt.date\n",
    "data['month'] = data['reg_date'].dt.month\n",
    "data['week'] = data['reg_date'].dt.day // 7 + 1\n",
    "print(data.head())"
   ]
  },
  {
   "cell_type": "code",
   "execution_count": null,
   "metadata": {},
   "outputs": [],
   "source": [
    "data['reg_date'] = pd.to_datetime(data['reg_date'])\n",
    "data['weekday'] = data['reg_date'].dt.weekday\n",
    "\n",
    "weekday_dict = {0:'월요일', 1:'화요일', 2:'수요일', 3:'목요일', 4:'금요일', 5:'토요일', 6:'일요일'}\n",
    "data['day_of_reg'] = data['weekday'].map(weekday_dict)\n",
    "\n",
    "print(data)"
   ]
  },
  {
   "cell_type": "code",
   "execution_count": null,
   "metadata": {},
   "outputs": [],
   "source": [
    "data.drop(['reg_date', 'hour_reg', 'pick_rgn1_nm'], axis=1, inplace=True)      \n",
    "data.rename(columns={\"hour_reg2\": \"hour_reg\", \"reg_date2\": \"reg_date\"}, inplace=True)\n",
    "\n",
    "print(data.dtypes)"
   ]
  },
  {
   "cell_type": "code",
   "execution_count": null,
   "metadata": {},
   "outputs": [],
   "source": [
    "# weather\n",
    "# Read csv\n",
    "weather1 = pd.read_csv(\"/Users/yj.noh/Desktop/weather_2022.csv\", encoding='cp949')\n",
    "weather2 = pd.read_csv(\"/Users/yj.noh/Desktop/weather_2023.csv\", encoding='cp949')\n",
    "\n",
    "weather = pd.concat([weather1, weather2])\n",
    "\n",
    "weather.rename(columns={\"기온(°C)\": \"temp_c\", \"강수량(mm)\": \"rain_c\", \"적설(cm)\": \"snow_c\", \"일시\": \"date\"}, inplace=True)\n",
    "\n",
    "weather['date_2'] = pd.to_datetime(weather['date']).dt.date\n",
    "weather['hour'] = pd.to_datetime(weather['date']).dt.hour\n",
    "\n",
    "#print(weather['hour'].value_counts())\n",
    "print(weather.head())"
   ]
  },
  {
   "cell_type": "code",
   "execution_count": null,
   "metadata": {},
   "outputs": [],
   "source": [
    "# Filter hours\n",
    "weather = weather[weather['hour'].isin([9,10,11,12,13,14,15,16,17,18,19,20,21,22,23])]\n",
    "\n",
    "# Join\n",
    "combined_data = pd.merge(data, weather[[\"date_2\",\"hour\",\"temp_c\",\"rain_c\", \"snow_c\"]], left_on=[\"reg_date\", \"hour_reg\"], right_on=[\"date_2\", \"hour\"], how='left')\n",
    "\n",
    "# Fill NA\n",
    "combined_data['rain_c'].fillna(0, inplace=True)\n",
    "combined_data['snow_c'].fillna(0, inplace=True)\n",
    "print(combined_data.isnull().sum())"
   ]
  },
  {
   "cell_type": "code",
   "execution_count": null,
   "metadata": {},
   "outputs": [],
   "source": [
    "# 변수 생성 - is_rain\n",
    "combined_data['is_rain'] = combined_data.apply(lambda row: 1 if row['rain_c'] > 0 or row['snow_c'] > 0 else 0, axis=1)\n",
    "print(combined_data['is_rain'].value_counts()) # 0: 172,200 1: 17550\n",
    "\n",
    "print(combined_data['datetime'].min()) # \"2022-01-01 09:00:00\"\n",
    "print(combined_data['datetime'].max()) #  2023-05-21 23:00:00 \n"
   ]
  },
  {
   "cell_type": "code",
   "execution_count": null,
   "metadata": {},
   "outputs": [],
   "source": [
    "# 공휴일 유무 \n",
    "holiday_list = pd.to_datetime(['2022-01-01', '2022-01-31', '2022-02-01', '2022-03-01', '2022-03-09', '2022-05-05', '2022-05-08', '2022-06-01', '2022-06-06', '2022-08-15', \n",
    "                '2022-09-09', '2022-09-10', '2022-09-11', '2022-09-12', '2022-10-03', '2022-10-09', '2022-10-10', '2022-12-25', '2023-01-01', '2023-01-21', \n",
    "                '2023-01-22', '2023-01-23', '2023-01-24', '2023-03-01', '2023-05-01', '2023-05-05', '2023-05-27', '2023-05-29', '2023-06-06', '2023-08-15', \n",
    "                '2023-09-28', '2023-09-29', '2023-09-30', '2023-10-03', '2023-10-09', '2023-12-25'])\n",
    "\n",
    "combined_data['reg_date'] = pd.to_datetime(combined_data['reg_date'])\n",
    "combined_data['is_holiday'] = combined_data.apply(lambda row: 1 if (row['reg_date'] in holiday_list) or (row['day_of_reg'] in ['토요일', '일요일']) else 0, axis=1)\n",
    "\n",
    "print(combined_data['is_holiday'].value_counts()) # 61125"
   ]
  },
  {
   "cell_type": "code",
   "execution_count": null,
   "metadata": {},
   "outputs": [],
   "source": [
    "# 이상치(outlier) 여부 파악 \n",
    "def calculate_quantiles(group):\n",
    "    q1 = group['rider_cnt'].quantile(0.25)\n",
    "    q3 = group['rider_cnt'].quantile(0.75)\n",
    "    IQR1_5 = 1.5 * (q3 - q1)\n",
    "    group['q1'] = q1\n",
    "    group['q3'] = q3\n",
    "    group['IQR1.5'] = IQR1_5\n",
    "    group['outlier'] = np.where((group['is_rain'] == 0) & ((group['rider_cnt'] < (q1 - IQR1_5)) | (group['rider_cnt'] > (q3 + IQR1_5))), 1, 0)\n",
    "    return group\n",
    "\n",
    "combined_data = combined_data.groupby(['pick_rgn2_nm', 'day_of_reg', 'hour_reg', 'is_rain']).apply(calculate_quantiles)\n",
    "\n",
    "print(combined_data['outlier'].value_counts()) #7513"
   ]
  },
  {
   "cell_type": "code",
   "execution_count": null,
   "metadata": {},
   "outputs": [],
   "source": [
    "# outlier -> median 값으로 대체 \n",
    "\n",
    "combined_data['rider_cnt_2'] = combined_data['rider_cnt'].copy()\n",
    "combined_data['rider_cnt_2'] = combined_data.groupby(['pick_rgn2_nm', 'day_of_reg', 'hour_reg'])['rider_cnt_2'].transform(lambda x: x.median() if combined_data['outlier'] == 1 else x)\n"
   ]
  },
  {
   "cell_type": "code",
   "execution_count": null,
   "metadata": {},
   "outputs": [],
   "source": []
  },
  {
   "cell_type": "code",
   "execution_count": null,
   "metadata": {},
   "outputs": [],
   "source": []
  },
  {
   "cell_type": "code",
   "execution_count": null,
   "metadata": {},
   "outputs": [],
   "source": []
  },
  {
   "cell_type": "code",
   "execution_count": null,
   "metadata": {},
   "outputs": [],
   "source": []
  }
 ],
 "metadata": {
  "kernelspec": {
   "display_name": "Python 3",
   "language": "python",
   "name": "python3"
  },
  "language_info": {
   "codemirror_mode": {
    "name": "ipython",
    "version": 3
   },
   "file_extension": ".py",
   "mimetype": "text/x-python",
   "name": "python",
   "nbconvert_exporter": "python",
   "pygments_lexer": "ipython3",
   "version": "3.9.6"
  },
  "orig_nbformat": 4
 },
 "nbformat": 4,
 "nbformat_minor": 2
}
