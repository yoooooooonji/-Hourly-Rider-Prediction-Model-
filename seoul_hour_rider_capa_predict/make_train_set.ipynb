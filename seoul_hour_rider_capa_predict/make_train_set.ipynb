{
 "cells": [
  {
   "cell_type": "code",
   "execution_count": 200,
   "metadata": {},
   "outputs": [],
   "source": [
    "import pandas as pd\n",
    "import numpy as np\n",
    "import requests \n",
    "from datetime import datetime, date\n"
   ]
  },
  {
   "attachments": {},
   "cell_type": "markdown",
   "metadata": {},
   "source": [
    "## 1. data load"
   ]
  },
  {
   "cell_type": "code",
   "execution_count": 201,
   "metadata": {},
   "outputs": [
    {
     "name": "stdout",
     "output_type": "stream",
     "text": [
      "(83975, 7)\n"
     ]
    }
   ],
   "source": [
    "# 1. data load\n",
    "data = pd.read_excel(\"/Users/yj.noh/Desktop/seoul/train_data_new.xlsx\")\n",
    "data.rename(columns = {'라이더수':'rider_cnt', '주문수':'order_cnt'}, inplace = True)\n",
    "\n",
    "print(data.shape) "
   ]
  },
  {
   "cell_type": "code",
   "execution_count": 202,
   "metadata": {},
   "outputs": [
    {
     "name": "stdout",
     "output_type": "stream",
     "text": [
      "(72375, 7)\n"
     ]
    }
   ],
   "source": [
    "# 2. seoul, 9~23시만\n",
    "# Filter data\n",
    "data['reg_date'] = pd.to_datetime(data['reg_date'])\n",
    "data = data[data['pick_rgn1_nm'] == '서울특별시']\n",
    "data = data[data['reg_date'] < data['reg_date'].max()]\n",
    "data = data[data['hour_reg'].isin(range(9, 24))]\n",
    "\n",
    "print(data.shape) "
   ]
  },
  {
   "attachments": {},
   "cell_type": "markdown",
   "metadata": {},
   "source": [
    "## 2. 파생변수 생성"
   ]
  },
  {
   "attachments": {},
   "cell_type": "markdown",
   "metadata": {},
   "source": [
    "### 2-1. datetime "
   ]
  },
  {
   "cell_type": "code",
   "execution_count": 203,
   "metadata": {},
   "outputs": [
    {
     "name": "stdout",
     "output_type": "stream",
     "text": [
      "2022-12-01 09:00:00 2023-06-11 23:00:00\n"
     ]
    }
   ],
   "source": [
    "# datetime 컬럼 만들기 \n",
    "data['reg_date'] = pd.to_datetime(data['reg_date'])\n",
    "data['datetime'] = data['reg_date'] + pd.to_timedelta(data['hour_reg'], unit='h')\n",
    "data['hour_reg2'] = data['datetime'].dt.hour\n",
    "data['reg_date2'] = data['datetime'].dt.date\n",
    "\n",
    "print(data['datetime'].min(), data['datetime'].max())"
   ]
  },
  {
   "cell_type": "code",
   "execution_count": 204,
   "metadata": {},
   "outputs": [
    {
     "name": "stdout",
     "output_type": "stream",
     "text": [
      "        reg_date  hour_reg holiday_yn pick_rgn1_nm pick_rgn2_nm  rider_cnt   \n",
      "0     2022-12-01         9          N        서울특별시          금천구         23  \\\n",
      "1     2022-12-01         9          N        서울특별시          서초구         74   \n",
      "2     2022-12-01         9          N        서울특별시          송파구         89   \n",
      "3     2022-12-01         9          N        서울특별시          용산구         34   \n",
      "4     2022-12-01         9          N        서울특별시          강남구        190   \n",
      "...          ...       ...        ...          ...          ...        ...   \n",
      "83956 2023-06-11        23          Y        서울특별시          강동구         93   \n",
      "83957 2023-06-11        23          Y        서울특별시         동대문구        119   \n",
      "83958 2023-06-11        23          Y        서울특별시         서대문구        104   \n",
      "83959 2023-06-11        23          Y        서울특별시          성북구        122   \n",
      "83960 2023-06-11        23          Y        서울특별시          도봉구         57   \n",
      "\n",
      "       order_cnt            datetime  hour_reg2   reg_date2  weekday   \n",
      "0             34 2022-12-01 09:00:00          9  2022-12-01        3  \\\n",
      "1            108 2022-12-01 09:00:00          9  2022-12-01        3   \n",
      "2            177 2022-12-01 09:00:00          9  2022-12-01        3   \n",
      "3             61 2022-12-01 09:00:00          9  2022-12-01        3   \n",
      "4            411 2022-12-01 09:00:00          9  2022-12-01        3   \n",
      "...          ...                 ...        ...         ...      ...   \n",
      "83956        288 2023-06-11 23:00:00         23  2023-06-11        6   \n",
      "83957        242 2023-06-11 23:00:00         23  2023-06-11        6   \n",
      "83958        181 2023-06-11 23:00:00         23  2023-06-11        6   \n",
      "83959        213 2023-06-11 23:00:00         23  2023-06-11        6   \n",
      "83960        102 2023-06-11 23:00:00         23  2023-06-11        6   \n",
      "\n",
      "      day_of_reg  \n",
      "0            목요일  \n",
      "1            목요일  \n",
      "2            목요일  \n",
      "3            목요일  \n",
      "4            목요일  \n",
      "...          ...  \n",
      "83956        일요일  \n",
      "83957        일요일  \n",
      "83958        일요일  \n",
      "83959        일요일  \n",
      "83960        일요일  \n",
      "\n",
      "[72375 rows x 12 columns]\n"
     ]
    }
   ],
   "source": [
    "data['weekday'] = data['reg_date'].dt.weekday\n",
    "\n",
    "weekday_dict = {0:'월요일', 1:'화요일', 2:'수요일', 3:'목요일', 4:'금요일', 5:'토요일', 6:'일요일'}\n",
    "data['day_of_reg'] = data['weekday'].map(weekday_dict)\n",
    "\n",
    "print(data)"
   ]
  },
  {
   "cell_type": "code",
   "execution_count": 205,
   "metadata": {},
   "outputs": [
    {
     "name": "stdout",
     "output_type": "stream",
     "text": [
      "pick_rgn2_nm            object\n",
      "rider_cnt                int64\n",
      "order_cnt                int64\n",
      "datetime        datetime64[ns]\n",
      "hour_reg                 int32\n",
      "reg_date                object\n",
      "day_of_reg              object\n",
      "dtype: object\n",
      "  pick_rgn2_nm  rider_cnt  order_cnt            datetime  hour_reg   \n",
      "0          금천구         23         34 2022-12-01 09:00:00         9  \\\n",
      "1          서초구         74        108 2022-12-01 09:00:00         9   \n",
      "2          송파구         89        177 2022-12-01 09:00:00         9   \n",
      "\n",
      "     reg_date day_of_reg  \n",
      "0  2022-12-01        목요일  \n",
      "1  2022-12-01        목요일  \n",
      "2  2022-12-01        목요일  \n"
     ]
    }
   ],
   "source": [
    "data.drop(['reg_date', 'hour_reg', 'pick_rgn1_nm', 'holiday_yn','weekday'], axis=1, inplace=True)      \n",
    "data.rename(columns={\"hour_reg2\": \"hour_reg\", \"reg_date2\": \"reg_date\"}, inplace=True)\n",
    "\n",
    "\n",
    "print(data.dtypes)\n",
    "print(data.head(3))"
   ]
  },
  {
   "attachments": {},
   "cell_type": "markdown",
   "metadata": {},
   "source": [
    "### 2-2. 날씨 기상 여부 붙이기 "
   ]
  },
  {
   "cell_type": "code",
   "execution_count": 206,
   "metadata": {},
   "outputs": [
    {
     "name": "stdout",
     "output_type": "stream",
     "text": [
      "    지점 지점명              date  temp_c  rain_c  snow_c      date_2  hour\n",
      "0  108  서울  2022-12-01 00:00    -8.0     NaN     NaN  2022-12-01     0\n",
      "1  108  서울  2022-12-01 01:00    -7.7     NaN     NaN  2022-12-01     1\n",
      "2  108  서울  2022-12-01 02:00    -7.5     NaN     NaN  2022-12-01     2\n",
      "3  108  서울  2022-12-01 03:00    -7.7     NaN     NaN  2022-12-01     3\n",
      "4  108  서울  2022-12-01 04:00    -7.9     NaN     NaN  2022-12-01     4\n"
     ]
    }
   ],
   "source": [
    "# weather\n",
    "# Read csv\n",
    "weather = pd.read_csv(\"/Users/yj.noh/Desktop/seoul/weather_new.csv\", encoding='cp949')\n",
    "\n",
    "weather.rename(columns={\"기온(°C)\": \"temp_c\", \"강수량(mm)\": \"rain_c\", \"적설(cm)\": \"snow_c\", \"일시\": \"date\"}, inplace=True)\n",
    "\n",
    "weather['date_2'] = pd.to_datetime(weather['date']).dt.date\n",
    "weather['hour'] = pd.to_datetime(weather['date']).dt.hour\n",
    "\n",
    "#print(weather['hour'].value_counts())\n",
    "print(weather.head())"
   ]
  },
  {
   "cell_type": "code",
   "execution_count": 207,
   "metadata": {},
   "outputs": [
    {
     "name": "stdout",
     "output_type": "stream",
     "text": [
      "pick_rgn2_nm    0\n",
      "rider_cnt       0\n",
      "order_cnt       0\n",
      "datetime        0\n",
      "hour_reg        0\n",
      "reg_date        0\n",
      "day_of_reg      0\n",
      "rain_c          0\n",
      "snow_c          0\n",
      "dtype: int64\n"
     ]
    }
   ],
   "source": [
    "\n",
    "# Filter hours\n",
    "weather = weather[weather['hour'].isin([9,10,11,12,13,14,15,16,17,18,19,20,21,22,23])]\n",
    "\n",
    "# Join\n",
    "combined_data = pd.merge(data, weather[[\"date_2\",\"hour\",\"temp_c\",\"rain_c\", \"snow_c\"]], left_on=[\"reg_date\", \"hour_reg\"], right_on=[\"date_2\", \"hour\"], how='left')\n",
    "\n",
    "# Fill NA\n",
    "combined_data['rain_c'].fillna(0, inplace=True)\n",
    "combined_data['snow_c'].fillna(0, inplace=True)\n",
    "\n",
    "combined_data.drop(['hour', 'date_2', 'temp_c'], axis=1, inplace=True)    \n",
    "print(combined_data.isnull().sum())"
   ]
  },
  {
   "cell_type": "code",
   "execution_count": 208,
   "metadata": {},
   "outputs": [
    {
     "name": "stdout",
     "output_type": "stream",
     "text": [
      "is_rain\n",
      "0    63275\n",
      "1     9100\n",
      "Name: count, dtype: int64\n",
      "2022-12-01 09:00:00\n",
      "2023-06-11 23:00:00\n"
     ]
    }
   ],
   "source": [
    "# 변수 생성 - is_rain\n",
    "combined_data['is_rain'] = combined_data.apply(lambda row: 1 if row['rain_c'] > 0 or row['snow_c'] > 0 else 0, axis=1)\n",
    "print(combined_data['is_rain'].value_counts()) \n",
    "\n",
    "print(combined_data['datetime'].min()) \n",
    "print(combined_data['datetime'].max()) \n"
   ]
  },
  {
   "cell_type": "code",
   "execution_count": 209,
   "metadata": {},
   "outputs": [],
   "source": [
    "# is_rain2 \n",
    "combined_data = combined_data.groupby('reg_date').apply(lambda x: x.assign(is_rain2 = 1 if x['is_rain'].sum() > 0 else 0)).reset_index(drop=True)\n"
   ]
  },
  {
   "attachments": {},
   "cell_type": "markdown",
   "metadata": {},
   "source": [
    "### 2-4. is_holiday"
   ]
  },
  {
   "cell_type": "code",
   "execution_count": 210,
   "metadata": {},
   "outputs": [
    {
     "name": "stdout",
     "output_type": "stream",
     "text": [
      "is_holiday\n",
      "0    48750\n",
      "1    23625\n",
      "Name: count, dtype: int64\n"
     ]
    }
   ],
   "source": [
    "# 공휴일 유무 \n",
    "holiday_list = pd.to_datetime(['2022-01-01', '2022-01-31', '2022-02-01', '2022-03-01', '2022-03-09', '2022-05-05', '2022-05-08', '2022-06-01', '2022-06-06', '2022-08-15', \n",
    "                '2022-09-09', '2022-09-10', '2022-09-11', '2022-09-12', '2022-10-03', '2022-10-09', '2022-10-10', '2022-12-25', '2023-01-01', '2023-01-21', \n",
    "                '2023-01-22', '2023-01-23', '2023-01-24', '2023-03-01', '2023-05-01', '2023-05-05', '2023-05-27', '2023-05-29', '2023-06-06', '2023-08-15', \n",
    "                '2023-09-28', '2023-09-29', '2023-09-30', '2023-10-03', '2023-10-09', '2023-12-25'])\n",
    "\n",
    "combined_data['reg_date'] = pd.to_datetime(combined_data['reg_date'])\n",
    "combined_data['is_holiday'] = combined_data.apply(lambda row: 1 if (row['reg_date'] in holiday_list) or (row['day_of_reg'] in ['토요일', '일요일']) else 0, axis=1)\n",
    "\n",
    "print(combined_data['is_holiday'].value_counts()) "
   ]
  },
  {
   "attachments": {},
   "cell_type": "markdown",
   "metadata": {},
   "source": [
    "## 3. outlier "
   ]
  },
  {
   "cell_type": "code",
   "execution_count": 211,
   "metadata": {},
   "outputs": [],
   "source": [
    "# 이상치(outlier) 여부 파악 \n",
    "def calculate_quantiles(group):\n",
    "    q1 = group['rider_cnt'].quantile(0.25)\n",
    "    q3 = group['rider_cnt'].quantile(0.75)\n",
    "    IQR1_5 = 1.5 * (q3 - q1)\n",
    "    group['q1'] = q1\n",
    "    group['q3'] = q3\n",
    "    group['IQR1.5'] = IQR1_5\n",
    "    group['outlier'] = np.where(((group['is_rain'] == 0) & ((group['rider_cnt'] < (q1 - IQR1_5)) | (group['rider_cnt'] > (q3 + IQR1_5))) | \n",
    "                               (group['is_holiday'] == 0) & ((group['rider_cnt'] < (q1 - IQR1_5)) | (group['rider_cnt'] > (q3 + IQR1_5))))  , 1, 0)\n",
    "    return group\n",
    "\n"
   ]
  },
  {
   "cell_type": "code",
   "execution_count": 212,
   "metadata": {},
   "outputs": [
    {
     "name": "stdout",
     "output_type": "stream",
     "text": [
      "2022-12-01 00:00:00\n",
      "2023-03-31 00:00:00\n",
      "2023-04-01 00:00:00\n",
      "2023-06-11 00:00:00\n"
     ]
    }
   ],
   "source": [
    "train_data = combined_data[combined_data['reg_date'] <= pd.to_datetime('2023-03-31')]\n",
    "test_data = combined_data[combined_data['reg_date'] >= pd.to_datetime('2023-04-01')]\n",
    "\n",
    "print(train_data['reg_date'].min()) #2022-12-01\n",
    "print(train_data['reg_date'].max()) #2023-03-31\n",
    "\n",
    "print(test_data['reg_date'].min()) #2023-04-01\n",
    "print(test_data['reg_date'].max()) #2023-06-11"
   ]
  },
  {
   "cell_type": "code",
   "execution_count": 213,
   "metadata": {},
   "outputs": [
    {
     "name": "stdout",
     "output_type": "stream",
     "text": [
      "outlier\n",
      "0    43109\n",
      "1     2266\n",
      "Name: count, dtype: int64\n"
     ]
    }
   ],
   "source": [
    "train_data = train_data.groupby(['pick_rgn2_nm', 'day_of_reg', 'hour_reg', 'is_rain']).apply(calculate_quantiles)\n",
    "\n",
    "print(train_data['outlier'].value_counts()) "
   ]
  },
  {
   "cell_type": "code",
   "execution_count": 214,
   "metadata": {},
   "outputs": [],
   "source": [
    "# outlier -> median 값으로 대체 \n",
    "\n",
    "train_data = train_data.reset_index(drop=True)\n",
    "\n",
    "train_data['rider_cnt_2'] = train_data['rider_cnt'].copy()\n",
    "train_data['rider_cnt_2'] = train_data.groupby(['pick_rgn2_nm', 'day_of_reg', 'hour_reg'])['rider_cnt'].transform(lambda x: x.median() if 'outlier' in train_data.columns and train_data.loc[x.index, 'outlier'].any() else x)\n"
   ]
  },
  {
   "cell_type": "code",
   "execution_count": 215,
   "metadata": {},
   "outputs": [],
   "source": [
    "# train data, test data 합치기\n",
    "\n",
    "train_data = train_data.drop(['rider_cnt', 'q1', 'q3', 'IQR1.5', 'outlier'], axis=1)\n",
    "\n",
    "train_data = train_data.rename(columns={'rider_cnt_2': 'rider_cnt'})\n",
    "train_data = train_data[['pick_rgn2_nm', 'rider_cnt', 'order_cnt', 'datetime', 'hour_reg', 'reg_date', 'day_of_reg', 'rain_c', 'snow_c', 'is_rain', 'is_rain2', 'is_holiday']]\n",
    "\n",
    "combined_data = pd.concat([train_data, test_data], ignore_index=True)\n"
   ]
  },
  {
   "cell_type": "code",
   "execution_count": 217,
   "metadata": {},
   "outputs": [
    {
     "name": "stdout",
     "output_type": "stream",
     "text": [
      "  pick_rgn2_nm  rider_cnt  order_cnt            datetime  hour_reg   reg_date   \n",
      "0          강남구      213.0        455 2022-12-02 09:00:00         9 2022-12-02  \\\n",
      "1          강남구      197.0        448 2022-12-09 09:00:00         9 2022-12-09   \n",
      "2          강남구      180.0        393 2022-12-30 09:00:00         9 2022-12-30   \n",
      "\n",
      "  day_of_reg  rain_c  snow_c  is_rain  is_rain2  is_holiday  \n",
      "0        금요일     0.0     0.0        0         0           0  \n",
      "1        금요일     0.0     0.0        0         0           0  \n",
      "2        금요일     0.0     0.0        0         0           0  \n",
      "pick_rgn2_nm    0\n",
      "rider_cnt       0\n",
      "order_cnt       0\n",
      "datetime        0\n",
      "hour_reg        0\n",
      "reg_date        0\n",
      "day_of_reg      0\n",
      "rain_c          0\n",
      "snow_c          0\n",
      "is_rain         0\n",
      "is_rain2        0\n",
      "is_holiday      0\n",
      "dtype: int64\n"
     ]
    }
   ],
   "source": [
    "print(combined_data.head(3))\n",
    "print(combined_data.isnull().sum())"
   ]
  },
  {
   "attachments": {},
   "cell_type": "markdown",
   "metadata": {},
   "source": [
    "### 4. w_1, w_2 rider수 변수 만들기 "
   ]
  },
  {
   "cell_type": "code",
   "execution_count": null,
   "metadata": {},
   "outputs": [],
   "source": [
    "combined_data = combined_data.sort_values(['reg_date', 'pick_rgn2_nm'])\n",
    "combined_data['rider_cnt_w_1'] = combined_data.groupby(['pick_rgn2_nm', 'day_of_reg', 'hour_reg','is_rain'])['rider_cnt'].shift(1)\n",
    "combined_data['rider_cnt_w_2'] = combined_data.groupby(['pick_rgn2_nm', 'day_of_reg', 'hour_reg','is_rain'])['rider_cnt'].shift(2)\n",
    "combined_data['rider_cnt_w_4'] = combined_data.groupby(['pick_rgn2_nm', 'day_of_reg', 'hour_reg','is_rain'])['rider_cnt'].shift(3)\n",
    "\n",
    "print(new_data.isna().sum())"
   ]
  }
 ],
 "metadata": {
  "kernelspec": {
   "display_name": "Python 3",
   "language": "python",
   "name": "python3"
  },
  "language_info": {
   "codemirror_mode": {
    "name": "ipython",
    "version": 3
   },
   "file_extension": ".py",
   "mimetype": "text/x-python",
   "name": "python",
   "nbconvert_exporter": "python",
   "pygments_lexer": "ipython3",
   "version": "3.9.6"
  },
  "orig_nbformat": 4
 },
 "nbformat": 4,
 "nbformat_minor": 2
}
