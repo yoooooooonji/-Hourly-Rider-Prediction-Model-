{
 "cells": [
  {
   "cell_type": "code",
   "execution_count": null,
   "metadata": {},
   "outputs": [],
   "source": [
    "import pandas as pd\n",
    "import numpy as np\n",
    "from datetime import datetime\n",
    "from dateutil.relativedelta import relativedelta\n",
    "\n",
    "# data load\n",
    "data1 = pd.read_excel(\"/Users/yj.noh/Desktop/train_data_2022.xlsx\")\n",
    "data2 = pd.read_excel(\"/Users/yj.noh/Desktop/train_data_2023.xlsx\")\n",
    "\n",
    "data = pd.concat([data1, data2], ignore_index=True)\n",
    "data = data.rename(columns={\"라이더수\": \"rider_cnt\", \"주문수\": \"order_cnt\"})\n",
    "\n",
    "# seoul\n",
    "data = data[data[\"pick_rgn1_nm\"] == \"서울특별시\"]\n",
    "max_reg_date = data[\"reg_date\"].max()\n",
    "data = data[data[\"reg_date\"] < max_reg_date]\n",
    "\n",
    "data = data[data[\"hour_reg\"].isin([9, 10, 11, 12, 13, 14, 15, 16, 17, 18, 19, 20, 21, 22, 23])]\n",
    "\n",
    "# NA 채우기 - time table\n",
    "data[\"reg_date\"] = pd.to_datetime(data[\"reg_date\"])\n",
    "data[\"datetime\"] = data[\"reg_date\"] + pd.to_timedelta(data[\"hour_reg\"], unit=\"h\")\n",
    "\n",
    "# weather\n",
    "weather1 = pd.read_csv(\"/Users/yj.noh/Desktop/weather_2022.csv\", encoding=\"cp949\")\n",
    "weather2 = pd.read_csv(\"/Users/yj.noh/Desktop/weather_2023.csv\", encoding=\"cp949\")\n",
    "weather = pd.concat([weather1, weather2], ignore_index=True)\n",
    "weather = weather.rename(columns={\"기온..C.\": \"temp_c\", \"강수량.mm.\": \"rain_c\", \"적설.cm.\": \"snow_c\", \"일시\": \"date\"})\n",
    "weather[\"date\"] = pd.to_datetime(weather[\"date\"])\n",
    "weather[\"hour\"] = weather[\"date\"].dt.hour\n",
    "weather = weather[weather[\"hour\"].isin([9, 10, 11, 12, 13, 14, 15, 16, 17, 18, 19, 20, 21, 22, 23])]\n",
    "\n",
    "combined_data = pd.merge(data, weather[[\"date\", \"hour\", \"temp_c\", \"rain_c\", \"snow_c\"]], left_on=[\"reg_date\", \"hour_reg\"], right_on=[\"date\", \"hour\"], how=\"left\")\n",
    "combined_data = combined_data.drop(columns=[\"date\", \"hour\"])\n",
    "combined_data[\"rain_c\"] = combined_data[\"rain_c\"].fillna(0)\n",
    "combined_data[\"snow_c\"] = combined_data[\"snow_c\"].fillna(0)\n",
    "\n",
    "# 변수 생성\n",
    "combined_data[\"is_rain\"] = np.where((combined_data[\"rain_c\"] > 0) | (combined_data[\"snow_c\"] > 0), 1, 0)\n",
    "\n",
    "combined_data[\"month\"] = combined_data[\"reg_date\"].dt.month\n",
    "combined_data[\"week\"] = np.ceil(combined_data[\"reg_date\"].dt.day / 7)\n",
    "\n",
    "\n"
   ]
  }
 ],
 "metadata": {
  "language_info": {
   "name": "python"
  },
  "orig_nbformat": 4
 },
 "nbformat": 4,
 "nbformat_minor": 2
}
