{
 "cells": [
  {
   "attachments": {},
   "cell_type": "markdown",
   "metadata": {},
   "source": [
    "## 최신 6일 라이더 운행 인원 예측"
   ]
  },
  {
   "attachments": {},
   "cell_type": "markdown",
   "metadata": {},
   "source": [
    "### 1. import new_dataset "
   ]
  },
  {
   "cell_type": "code",
   "execution_count": 2,
   "metadata": {},
   "outputs": [],
   "source": [
    "import numpy as np\n",
    "import matplotlib.pyplot as plt\n",
    "import pandas as pd\n",
    "from datetime import datetime\n",
    "import joblib\n",
    "import json\n",
    "import requests \n",
    "\n",
    "# sklearn 관련\n",
    "from sklearn.model_selection import train_test_split\n",
    "from sklearn.model_selection import cross_validate\n",
    "from sklearn.model_selection import cross_val_score\n",
    "from sklearn.preprocessing import OneHotEncoder\n",
    "from sklearn.linear_model import LinearRegression\n",
    "from sklearn.linear_model import Ridge, Lasso\n",
    "from sklearn.svm import SVR\n",
    "from sklearn.tree import DecisionTreeRegressor\n",
    "from sklearn.ensemble import RandomForestRegressor\n",
    "from sklearn.linear_model import LinearRegression\n",
    "from sklearn.model_selection import GridSearchCV\n",
    "from sklearn.metrics import mean_squared_error, mean_absolute_error, r2_score, mean_absolute_percentage_error\n",
    "import ast \n",
    "import statsmodels.api as sm \n",
    "from time import time\n",
    "from pandas import json_normalize\n",
    "\n",
    "# 전처리 \n",
    "from sklearn.preprocessing import StandardScaler\n",
    "from sklearn.preprocessing import MinMaxScaler\n",
    "\n",
    "# lightgbm 관련\n",
    "from lightgbm import LGBMRegressor\n",
    "from lightgbm import plot_importance"
   ]
  },
  {
   "cell_type": "code",
   "execution_count": 55,
   "metadata": {},
   "outputs": [
    {
     "name": "stdout",
     "output_type": "stream",
     "text": [
      "(11675, 7)\n"
     ]
    }
   ],
   "source": [
    "new_data = pd.read_excel(\"/Users/yj.noh/Desktop/predict_data.xlsx\")\n",
    "new_data = new_data.rename(columns={'라이더수': 'rider_cnt', '주문수': 'order_cnt'})\n",
    "new_data['reg_date'] = pd.to_datetime(new_data['reg_date'])\n",
    "new_data = new_data[(new_data['pick_rgn1_nm'] == '서울특별시') & (new_data['reg_date'] < new_data['reg_date'].max())]\n",
    "print(new_data.shape) #11675,7"
   ]
  },
  {
   "cell_type": "code",
   "execution_count": 56,
   "metadata": {},
   "outputs": [
    {
     "name": "stdout",
     "output_type": "stream",
     "text": [
      "pick_rgn2_nm\n",
      "강남구     481\n",
      "송파구     479\n",
      "관악구     479\n",
      "강서구     474\n",
      "영등포구    473\n",
      "마포구     472\n",
      "은평구     468\n",
      "강동구     468\n",
      "서초구     468\n",
      "중구      466\n",
      "성북구     466\n",
      "광진구     466\n",
      "양천구     466\n",
      "강북구     466\n",
      "성동구     465\n",
      "노원구     465\n",
      "동작구     464\n",
      "서대문구    463\n",
      "용산구     463\n",
      "동대문구    462\n",
      "금천구     462\n",
      "구로구     461\n",
      "중랑구     461\n",
      "도봉구     459\n",
      "종로구     458\n",
      "Name: count, dtype: int64\n"
     ]
    }
   ],
   "source": [
    "print(new_data['pick_rgn2_nm'].value_counts())"
   ]
  },
  {
   "cell_type": "code",
   "execution_count": 57,
   "metadata": {},
   "outputs": [
    {
     "name": "stdout",
     "output_type": "stream",
     "text": [
      "hour_reg\n",
      "9     675\n",
      "10    675\n",
      "11    675\n",
      "12    675\n",
      "13    675\n",
      "14    675\n",
      "15    675\n",
      "16    675\n",
      "17    675\n",
      "18    675\n",
      "19    675\n",
      "20    675\n",
      "21    675\n",
      "22    675\n",
      "23    675\n",
      "Name: count, dtype: int64\n"
     ]
    }
   ],
   "source": [
    "new_data = new_data[new_data['hour_reg'].isin([9, 10, 11, 12, 13, 14, 15, 16, 17, 18, 19, 20, 21, 22, 23])]\n",
    "print(new_data['hour_reg'].value_counts())"
   ]
  },
  {
   "cell_type": "code",
   "execution_count": 58,
   "metadata": {},
   "outputs": [
    {
     "name": "stdout",
     "output_type": "stream",
     "text": [
      "(10125, 7)\n"
     ]
    }
   ],
   "source": [
    "print(new_data.shape)  # (10,125, 7)"
   ]
  },
  {
   "attachments": {},
   "cell_type": "markdown",
   "metadata": {},
   "source": [
    "### 2. 파생변수 생성 - month, week, day_of_reg2, day_of_reg"
   ]
  },
  {
   "cell_type": "code",
   "execution_count": 59,
   "metadata": {},
   "outputs": [
    {
     "name": "stdout",
     "output_type": "stream",
     "text": [
      "day_of_reg2\n",
      "Tue    1500\n",
      "Wed    1500\n",
      "Thu    1500\n",
      "Fri    1500\n",
      "Sat    1500\n",
      "Sun    1500\n",
      "Mon    1125\n",
      "Name: count, dtype: int64\n",
      "day_of_reg\n",
      "월목    5625\n",
      "주말    3000\n",
      "금     1500\n",
      "Name: count, dtype: int64\n"
     ]
    }
   ],
   "source": [
    "new_data['month'] = new_data['reg_date'].dt.month\n",
    "new_data['week'] = ((new_data['reg_date'].dt.day - 1) // 7) + 1\n",
    "new_data['day_of_reg2'] = new_data['reg_date'].dt.strftime('%a')\n",
    "new_data['day_of_reg'] = new_data['day_of_reg2'].replace({'Sat': '주말', 'Sun': '주말', 'Fri': '금', 'Mon': '월목', 'Tue': '월목', 'Wed': '월목', 'Thu': '월목'})\n",
    "print(new_data['day_of_reg2'].value_counts())\n",
    "print(new_data['day_of_reg'].value_counts())"
   ]
  },
  {
   "attachments": {},
   "cell_type": "markdown",
   "metadata": {},
   "source": [
    "### 3. 파생변수 생성 -  w-1,w-2,w-3,w-4 동일요일, 동일 시간대 주문수, 라이더 수 "
   ]
  },
  {
   "cell_type": "code",
   "execution_count": 60,
   "metadata": {},
   "outputs": [],
   "source": [
    "new_data = new_data.sort_values(['reg_date', 'pick_rgn2_nm'])\n",
    "new_data['rider_cnt_w_2'] = new_data.groupby(['pick_rgn2_nm', 'day_of_reg2', 'hour_reg'])['rider_cnt'].shift(1)\n",
    "new_data['rider_cnt_w_3'] = new_data.groupby(['pick_rgn2_nm', 'day_of_reg2', 'hour_reg'])['rider_cnt'].shift(2)\n",
    "new_data['rider_cnt_w_4'] = new_data.groupby(['pick_rgn2_nm', 'day_of_reg2', 'hour_reg'])['rider_cnt'].shift(3)\n",
    "new_data['order_cnt_w_2'] = new_data.groupby(['pick_rgn2_nm', 'day_of_reg2', 'hour_reg'])['order_cnt'].shift(1)\n",
    "new_data['order_cnt_w_3'] = new_data.groupby(['pick_rgn2_nm', 'day_of_reg2', 'hour_reg'])['order_cnt'].shift(2)\n",
    "new_data['order_cnt_w_4'] = new_data.groupby(['pick_rgn2_nm', 'day_of_reg2', 'hour_reg'])['order_cnt'].shift(3)"
   ]
  },
  {
   "cell_type": "code",
   "execution_count": 61,
   "metadata": {},
   "outputs": [
    {
     "name": "stdout",
     "output_type": "stream",
     "text": [
      "<class 'pandas.core.frame.DataFrame'>\n",
      "Index: 10125 entries, 54 to 50552\n",
      "Data columns (total 16 columns):\n",
      " #   Column         Non-Null Count  Dtype         \n",
      "---  ------         --------------  -----         \n",
      " 0   reg_date       10125 non-null  datetime64[ns]\n",
      " 1   hour_reg       10125 non-null  int64         \n",
      " 2   day_of_reg     10125 non-null  object        \n",
      " 3   pick_rgn1_nm   10125 non-null  object        \n",
      " 4   pick_rgn2_nm   10125 non-null  object        \n",
      " 5   rider_cnt      10125 non-null  int64         \n",
      " 6   order_cnt      10125 non-null  int64         \n",
      " 7   month          10125 non-null  int32         \n",
      " 8   week           10125 non-null  int32         \n",
      " 9   day_of_reg2    10125 non-null  object        \n",
      " 10  rider_cnt_w_2  7500 non-null   float64       \n",
      " 11  rider_cnt_w_3  4875 non-null   float64       \n",
      " 12  rider_cnt_w_4  2250 non-null   float64       \n",
      " 13  order_cnt_w_2  7500 non-null   float64       \n",
      " 14  order_cnt_w_3  4875 non-null   float64       \n",
      " 15  order_cnt_w_4  2250 non-null   float64       \n",
      "dtypes: datetime64[ns](1), float64(6), int32(2), int64(3), object(4)\n",
      "memory usage: 1.2+ MB\n",
      "None\n"
     ]
    }
   ],
   "source": [
    "print(new_data.info())"
   ]
  },
  {
   "attachments": {},
   "cell_type": "markdown",
   "metadata": {},
   "source": [
    "### 4. reg_date +7, 변수명 변경 "
   ]
  },
  {
   "cell_type": "code",
   "execution_count": 62,
   "metadata": {},
   "outputs": [
    {
     "name": "stdout",
     "output_type": "stream",
     "text": [
      "(2250, 18)\n"
     ]
    }
   ],
   "source": [
    "new_data['reg_date'] = new_data['reg_date'] + pd.DateOffset(days=7)\n",
    "new_data['rider_cnt_w_1'] = new_data['rider_cnt']\n",
    "new_data['order_cnt_w_1'] = new_data['order_cnt']\n",
    "new_data = new_data[new_data['reg_date'] >= '2023-05-16'] #예측일 일자 이후 \n",
    "print(new_data.shape)  # (2,250, num_columns)"
   ]
  },
  {
   "attachments": {},
   "cell_type": "markdown",
   "metadata": {},
   "source": [
    "### 5. 파생변수 생성 - is_holiday (API 받아서)"
   ]
  },
  {
   "cell_type": "code",
   "execution_count": null,
   "metadata": {},
   "outputs": [],
   "source": [
    "# 공휴일 가져오기 \n",
    "\n",
    "today = datetime.today().strftime('%Y%m%d')\n",
    "today_year = datetime.today().year\n",
    "\n",
    "key = 'uw7Y8kgQ1Fqg6z9GjnSN8jJ8S%2FuV%2Bl%2B8PnHC4By9xwtYF5ZAExmO2Ip1mJcQC3HDTDcKmIxB9rBBuI0gDaIYVA%3D%3D'\n",
    "url = \"https://apis.new_data.go.kr/B090041/openapi/service/SpcdeInfoService/getRestDeInfo?_type=json&numOfRows=50&solYear=\"+ str(today_year)+ '&ServiceKey=' + str(key) \n",
    "\n",
    "response = requests.get(url)\n",
    "\n",
    "if response.status_code == 200 :\n",
    "    json_ob = json.loads(response.text)\n",
    "    holidays_new_data = json_ob['response']['body']['items']['item']\n",
    "    new_dataframe = json_normalize(holidays_new_data)\n",
    "\n",
    "holiday_list = new_dataframe['locdate'].tolist()\n",
    "print(holiday_list)"
   ]
  },
  {
   "cell_type": "code",
   "execution_count": 64,
   "metadata": {},
   "outputs": [
    {
     "name": "stdout",
     "output_type": "stream",
     "text": [
      "is_holiday\n",
      "0    1500\n",
      "1     750\n",
      "Name: count, dtype: int64\n",
      "is_holiday2\n",
      "0    2250\n",
      "Name: count, dtype: int64\n"
     ]
    }
   ],
   "source": [
    "holiday_list = ['2022-01-01', '2022-01-31', '2022-02-01', '2022-03-01', '2022-03-09', '2022-05-05', '2022-05-08', '2022-06-01', '2022-06-06', '2022-08-15', \n",
    "                '2022-09-09', '2022-09-10', '2022-09-11', '2022-09-12', '2022-10-03', '2022-10-09', '2022-10-10', '2022-12-25', '2023-01-01', '2023-01-21', \n",
    "                '2023-01-22', '2023-01-23', '2023-01-24', '2023-03-01', '2023-05-01', '2023-05-05', '2023-05-27', '2023-05-29', '2023-06-06', '2023-08-15', \n",
    "                '2023-09-28', '2023-09-29', '2023-09-30', '2023-10-03', '2023-10-09', '2023-12-25']\n",
    "new_data['is_holiday'] = new_data.apply(lambda row: 1 if (row['reg_date'].date() in holiday_list) or (row['day_of_reg2'] in ['Sat', 'Sun']) else 0, axis=1)\n",
    "new_data['is_holiday2'] = new_data['reg_date'].apply(lambda x: 1 if x.date() in holiday_list else 0)\n",
    "\n",
    "print(new_data['is_holiday'].value_counts()) #1500,750\n",
    "print(new_data['is_holiday2'].value_counts())  #2250 1없음. \n"
   ]
  },
  {
   "attachments": {},
   "cell_type": "markdown",
   "metadata": {},
   "source": [
    "### 6. 파생변수 생성 - is_rain (추후 API로 해결)"
   ]
  },
  {
   "cell_type": "code",
   "execution_count": null,
   "metadata": {},
   "outputs": [],
   "source": [
    "# 시간대 입력 \n",
    "# 강수 예정되어 있는 날짜, 시간대 입력\n",
    "# specific_dates = ['2023-05-16', '2023-05-22']\n",
    "# specific_times = [datetime.time(9, 0, 0), datetime.time(11, 0, 0), datetime.time(15, 0, 0), datetime.time(17, 0, 0)]\n",
    "\n",
    "# new_data['is_rain'] = new_data.apply(lambda row: 1 if (row['reg_date'].date() in [datetime.datetime.strptime(date, '%Y-%m-%d').date() for date in specific_dates] and row['reg_date'].time() in specific_times) else 0, axis=1)\n",
    "\n",
    "# print(new_data['is_rain'].value_counts())\n"
   ]
  },
  {
   "cell_type": "code",
   "execution_count": 71,
   "metadata": {},
   "outputs": [
    {
     "name": "stdout",
     "output_type": "stream",
     "text": [
      "is_rain\n",
      "0    1875\n",
      "1     375\n",
      "Name: count, dtype: int64\n"
     ]
    }
   ],
   "source": [
    "# 날짜만 입력 \n",
    "new_data['is_rain'] = new_data['reg_date'].apply(lambda x: 1 if x.date() == datetime.strptime('2023-05-18', '%Y-%m-%d').date() else 0)\n",
    "\n",
    "print(new_data['is_rain'].value_counts()) #375"
   ]
  },
  {
   "cell_type": "code",
   "execution_count": 67,
   "metadata": {},
   "outputs": [
    {
     "name": "stdout",
     "output_type": "stream",
     "text": [
      "(2250, 21)\n"
     ]
    }
   ],
   "source": [
    "print(new_data.shape)"
   ]
  },
  {
   "cell_type": "code",
   "execution_count": 72,
   "metadata": {},
   "outputs": [
    {
     "name": "stdout",
     "output_type": "stream",
     "text": [
      "2023-05-16 00:00:00\n",
      "2023-05-21 00:00:00\n"
     ]
    }
   ],
   "source": [
    "print(new_data['reg_date'].min())\n",
    "print(new_data['reg_date'].max())\n",
    "\n",
    "#print(new_data.isna().sum())"
   ]
  },
  {
   "cell_type": "code",
   "execution_count": 73,
   "metadata": {},
   "outputs": [],
   "source": [
    "new_data = new_data.drop(['pick_rgn1_nm', 'rider_cnt', 'order_cnt'], axis=1)\n",
    "new_data.to_csv('predict_new_data.csv', encoding='cp949', index=False)"
   ]
  },
  {
   "attachments": {},
   "cell_type": "markdown",
   "metadata": {},
   "source": [
    "### 7. 데이터 전처리 "
   ]
  },
  {
   "cell_type": "code",
   "execution_count": 74,
   "metadata": {},
   "outputs": [
    {
     "name": "stdout",
     "output_type": "stream",
     "text": [
      "reg_date         datetime64[ns]\n",
      "hour_reg               category\n",
      "day_of_reg             category\n",
      "pick_rgn2_nm           category\n",
      "month                  category\n",
      "week                   category\n",
      "day_of_reg2              object\n",
      "rider_cnt_w_2           float64\n",
      "rider_cnt_w_3           float64\n",
      "rider_cnt_w_4           float64\n",
      "order_cnt_w_2           float64\n",
      "order_cnt_w_3           float64\n",
      "order_cnt_w_4           float64\n",
      "rider_cnt_w_1             int64\n",
      "order_cnt_w_1             int64\n",
      "is_holiday                int64\n",
      "is_holiday2            category\n",
      "is_rain                category\n",
      "dtype: object\n"
     ]
    }
   ],
   "source": [
    "# category  - pick_rgn2_nm, hour_reg, day_of_reg, is_rain, month, week, is_holiday\n",
    "for col in ['pick_rgn2_nm', 'hour_reg', 'day_of_reg', 'is_rain', 'month', 'week', 'is_holiday2'] : \n",
    "   new_data[col] = new_data[col].astype('category')\n",
    "\n",
    "print(new_data.dtypes)"
   ]
  },
  {
   "cell_type": "code",
   "execution_count": 75,
   "metadata": {},
   "outputs": [
    {
     "name": "stdout",
     "output_type": "stream",
     "text": [
      "Index(['pick_rgn2_nm_강남구', 'pick_rgn2_nm_강동구', 'pick_rgn2_nm_강북구',\n",
      "       'pick_rgn2_nm_강서구', 'pick_rgn2_nm_관악구', 'pick_rgn2_nm_광진구',\n",
      "       'pick_rgn2_nm_구로구', 'pick_rgn2_nm_금천구', 'pick_rgn2_nm_노원구',\n",
      "       'pick_rgn2_nm_도봉구', 'pick_rgn2_nm_동대문구', 'pick_rgn2_nm_동작구',\n",
      "       'pick_rgn2_nm_마포구', 'pick_rgn2_nm_서대문구', 'pick_rgn2_nm_서초구',\n",
      "       'pick_rgn2_nm_성동구', 'pick_rgn2_nm_성북구', 'pick_rgn2_nm_송파구',\n",
      "       'pick_rgn2_nm_양천구', 'pick_rgn2_nm_영등포구', 'pick_rgn2_nm_용산구',\n",
      "       'pick_rgn2_nm_은평구', 'pick_rgn2_nm_종로구', 'pick_rgn2_nm_중구',\n",
      "       'pick_rgn2_nm_중랑구', 'hour_reg_9', 'hour_reg_10', 'hour_reg_11',\n",
      "       'hour_reg_12', 'hour_reg_13', 'hour_reg_14', 'hour_reg_15',\n",
      "       'hour_reg_16', 'hour_reg_17', 'hour_reg_18', 'hour_reg_19',\n",
      "       'hour_reg_20', 'hour_reg_21', 'hour_reg_22', 'hour_reg_23',\n",
      "       'day_of_reg_금', 'day_of_reg_월목', 'day_of_reg_주말', 'is_rain_0',\n",
      "       'is_rain_1', 'month_5', 'week_2', 'is_holiday2_0', 'day_of_reg2',\n",
      "       'rider_cnt_w_2', 'rider_cnt_w_3', 'rider_cnt_w_4', 'order_cnt_w_2',\n",
      "       'order_cnt_w_3', 'order_cnt_w_4', 'rider_cnt_w_1', 'order_cnt_w_1',\n",
      "       'is_holiday'],\n",
      "      dtype='object')\n"
     ]
    }
   ],
   "source": [
    "# one-hot-encoding\n",
    "\n",
    "var = ['pick_rgn2_nm', 'hour_reg','day_of_reg', 'is_rain', 'month','week','is_holiday2']\n",
    "\n",
    "encode_data = new_data.sort_values(by=\"reg_date\")\n",
    "X_test = encode_data.drop(columns = ['reg_date'])\n",
    "\n",
    "encoder = OneHotEncoder()\n",
    "onehot = pd.DataFrame(encoder.fit_transform(encode_data[var]).toarray(), columns=encoder.get_feature_names_out(var), index = encode_data.index)\n",
    "X_test = pd.concat([onehot, X_test.drop(columns=var)], axis=1)\n",
    "#print(X_test.head(3))\n",
    "print(X_test.columns)"
   ]
  },
  {
   "attachments": {},
   "cell_type": "markdown",
   "metadata": {},
   "source": [
    "### 8. 존재하지 않는 변수 추가하기"
   ]
  },
  {
   "cell_type": "code",
   "execution_count": 76,
   "metadata": {},
   "outputs": [
    {
     "name": "stdout",
     "output_type": "stream",
     "text": [
      "Index(['pick_rgn2_nm_강남구', 'pick_rgn2_nm_강동구', 'pick_rgn2_nm_강북구',\n",
      "       'pick_rgn2_nm_강서구', 'pick_rgn2_nm_관악구', 'pick_rgn2_nm_광진구',\n",
      "       'pick_rgn2_nm_구로구', 'pick_rgn2_nm_금천구', 'pick_rgn2_nm_노원구',\n",
      "       'pick_rgn2_nm_도봉구', 'pick_rgn2_nm_동대문구', 'pick_rgn2_nm_동작구',\n",
      "       'pick_rgn2_nm_마포구', 'pick_rgn2_nm_서대문구', 'pick_rgn2_nm_서초구',\n",
      "       'pick_rgn2_nm_성동구', 'pick_rgn2_nm_성북구', 'pick_rgn2_nm_송파구',\n",
      "       'pick_rgn2_nm_양천구', 'pick_rgn2_nm_영등포구', 'pick_rgn2_nm_용산구',\n",
      "       'pick_rgn2_nm_은평구', 'pick_rgn2_nm_종로구', 'pick_rgn2_nm_중구',\n",
      "       'pick_rgn2_nm_중랑구', 'hour_reg_9', 'hour_reg_10', 'hour_reg_11',\n",
      "       'hour_reg_12', 'hour_reg_13', 'hour_reg_14', 'hour_reg_15',\n",
      "       'hour_reg_16', 'hour_reg_17', 'hour_reg_18', 'hour_reg_19',\n",
      "       'hour_reg_20', 'hour_reg_21', 'hour_reg_22', 'hour_reg_23',\n",
      "       'day_of_reg_금', 'day_of_reg_월목', 'day_of_reg_주말', 'is_rain_0',\n",
      "       'is_rain_1', 'month_5', 'week_2', 'is_holiday2_0', 'day_of_reg2',\n",
      "       'rider_cnt_w_2', 'rider_cnt_w_3', 'rider_cnt_w_4', 'order_cnt_w_2',\n",
      "       'order_cnt_w_3', 'order_cnt_w_4', 'rider_cnt_w_1', 'order_cnt_w_1',\n",
      "       'is_holiday', 'month_1', 'month_2', 'month_3', 'month_4', 'month_6',\n",
      "       'month_7', 'month_8', 'month_9', 'month_10', 'month_11', 'month_12',\n",
      "       'week_1', 'week_3', 'week_4', 'week_5', 'is_holiday2_1'],\n",
      "      dtype='object')\n"
     ]
    }
   ],
   "source": [
    "# 새로운 변수 생성\n",
    "new_variables = ['month_1', 'month_2', 'month_3', 'month_4', 'month_6', 'month_7', 'month_8', 'month_9', 'month_10', 'month_11', 'month_12', 'week_1', 'week_3', 'week_4', 'week_5', 'is_holiday2_1']\n",
    "\n",
    "# 새로운 변수를 포함한 빈 DataFrame 생성\n",
    "encode_data = pd.DataFrame(0, columns=new_variables, index= X_test.index)\n",
    "\n",
    "# 기존 x_test DataFrame과 새로운 변수를 포함한 DataFrame을 병합\n",
    "X_test = pd.concat([X_test, encode_data], axis=1)\n",
    "\n",
    "# 결과 확인\n",
    "#print(X_test.head())\n",
    "print(X_test.columns)"
   ]
  },
  {
   "attachments": {},
   "cell_type": "markdown",
   "metadata": {},
   "source": [
    "### 9. train, test set split "
   ]
  },
  {
   "cell_type": "code",
   "execution_count": 78,
   "metadata": {},
   "outputs": [
    {
     "name": "stdout",
     "output_type": "stream",
     "text": [
      "(2250, 74)\n"
     ]
    },
    {
     "data": {
      "text/plain": [
       "pick_rgn2_nm_강남구    0\n",
       "pick_rgn2_nm_강동구    0\n",
       "pick_rgn2_nm_강북구    0\n",
       "pick_rgn2_nm_강서구    0\n",
       "pick_rgn2_nm_관악구    0\n",
       "                   ..\n",
       "week_1              0\n",
       "week_3              0\n",
       "week_4              0\n",
       "week_5              0\n",
       "is_holiday2_1       0\n",
       "Length: 74, dtype: int64"
      ]
     },
     "execution_count": 78,
     "metadata": {},
     "output_type": "execute_result"
    }
   ],
   "source": [
    "print(X_test.shape) #2250,74\n",
    "X_test.isna().sum()"
   ]
  },
  {
   "cell_type": "code",
   "execution_count": 79,
   "metadata": {},
   "outputs": [],
   "source": [
    "desired_order = ['pick_rgn2_nm_강남구', 'pick_rgn2_nm_강동구', 'pick_rgn2_nm_강북구',\n",
    "       'pick_rgn2_nm_강서구', 'pick_rgn2_nm_관악구', 'pick_rgn2_nm_광진구',\n",
    "       'pick_rgn2_nm_구로구', 'pick_rgn2_nm_금천구', 'pick_rgn2_nm_노원구',\n",
    "       'pick_rgn2_nm_도봉구', 'pick_rgn2_nm_동대문구', 'pick_rgn2_nm_동작구',\n",
    "       'pick_rgn2_nm_마포구', 'pick_rgn2_nm_서대문구', 'pick_rgn2_nm_서초구',\n",
    "       'pick_rgn2_nm_성동구', 'pick_rgn2_nm_성북구', 'pick_rgn2_nm_송파구',\n",
    "       'pick_rgn2_nm_양천구', 'pick_rgn2_nm_영등포구', 'pick_rgn2_nm_용산구',\n",
    "       'pick_rgn2_nm_은평구', 'pick_rgn2_nm_종로구', 'pick_rgn2_nm_중구',\n",
    "       'pick_rgn2_nm_중랑구', 'hour_reg_9', 'hour_reg_10', 'hour_reg_11',\n",
    "       'hour_reg_12', 'hour_reg_13', 'hour_reg_14', 'hour_reg_15',\n",
    "       'hour_reg_16', 'hour_reg_17', 'hour_reg_18', 'hour_reg_19',\n",
    "       'hour_reg_20', 'hour_reg_21', 'hour_reg_22', 'hour_reg_23',\n",
    "       'day_of_reg_금', 'day_of_reg_월목', 'day_of_reg_주말', 'is_rain_0',\n",
    "       'is_rain_1', 'month_1', 'month_2', 'month_3', 'month_4', 'month_5',\n",
    "       'month_6', 'month_7', 'month_8', 'month_9', 'month_10', 'month_11',\n",
    "       'month_12', 'week_1', 'week_2', 'week_3', 'week_4', 'week_5',\n",
    "       'is_holiday2_0', 'is_holiday2_1', 'rider_cnt_w_1', 'rider_cnt_w_2',\n",
    "       'rider_cnt_w_3', 'rider_cnt_w_4', 'order_cnt_w_1', 'order_cnt_w_2',\n",
    "       'order_cnt_w_3', 'order_cnt_w_4']\n",
    "\n",
    "X_test = X_test[desired_order]"
   ]
  },
  {
   "attachments": {},
   "cell_type": "markdown",
   "metadata": {},
   "source": [
    "### 10. model 적용 "
   ]
  },
  {
   "cell_type": "code",
   "execution_count": 82,
   "metadata": {},
   "outputs": [],
   "source": [
    "\n",
    "def get_predict(X_test):\n",
    "\n",
    "    Lasso_model = joblib.load('model_Lasso.joblib')\n",
    "    LGBM_model = joblib.load('model_LGBMRegressor.joblib')\n",
    "    RF_model = joblib.load('model_RandomForestRegressor.joblib')\n",
    "\n",
    "    result_df = pd.DataFrame({'reg_date': new_data[\"reg_date\"],\n",
    "                              'pick_rgn2_nm': new_data[\"pick_rgn2_nm\"], 'hour_reg': new_data[\"hour_reg\"],\n",
    "                              'day_of_reg': new_data[\"day_of_reg\"], 'is_rain': new_data[\"is_rain\"],\n",
    "                              'is_holiday': new_data[\"is_holiday2\"]})\n",
    "\n",
    "    y_pred_Lasso = Lasso_model.predict(X_test)\n",
    "    y_pred_LGBM = LGBM_model.predict(X_test)\n",
    "    y_pred_RF = RF_model.predict(X_test)\n",
    "    \n",
    "    result_df['y_pred_Lasso'] = y_pred_Lasso\n",
    "    result_df['y_pred_LGBM'] = y_pred_LGBM\n",
    "    result_df['y_pred_RF'] = y_pred_RF\n",
    "    \n",
    "    result_df['y_pred_avg'] = (result_df['y_pred_Lasso'] + result_df['y_pred_LGBM'] + result_df['y_pred_RF']) / 3 #3개 모델 예측값 \n",
    "\n",
    "\n",
    "    result_df.to_csv('prediction_results_latest6days.csv', index=False, encoding=\"cp949\")\n",
    "\n",
    "\n",
    "get_predict(X_test)"
   ]
  },
  {
   "attachments": {},
   "cell_type": "markdown",
   "metadata": {},
   "source": [
    "### 11. 보정계수 적용 - rgn2, is_rain, is_holiday "
   ]
  },
  {
   "cell_type": "code",
   "execution_count": 86,
   "metadata": {},
   "outputs": [
    {
     "data": {
      "text/html": [
       "<div>\n",
       "<style scoped>\n",
       "    .dataframe tbody tr th:only-of-type {\n",
       "        vertical-align: middle;\n",
       "    }\n",
       "\n",
       "    .dataframe tbody tr th {\n",
       "        vertical-align: top;\n",
       "    }\n",
       "\n",
       "    .dataframe thead th {\n",
       "        text-align: right;\n",
       "    }\n",
       "</style>\n",
       "<table border=\"1\" class=\"dataframe\">\n",
       "  <thead>\n",
       "    <tr style=\"text-align: right;\">\n",
       "      <th></th>\n",
       "      <th>datetime</th>\n",
       "      <th>pick_rgn2_nm</th>\n",
       "      <th>hour_reg</th>\n",
       "      <th>is_rain</th>\n",
       "      <th>day_of_reg</th>\n",
       "      <th>is_holiday</th>\n",
       "      <th>y_test</th>\n",
       "      <th>y_pred_test_LinearRegression</th>\n",
       "      <th>y_pred_test_Ridge</th>\n",
       "      <th>y_pred_test_Lasso</th>\n",
       "      <th>y_pred_test_LGBMRegressor</th>\n",
       "      <th>y_pred_test_RandomForestRegressor</th>\n",
       "      <th>y_pred_test_DecisionTreeRegressor</th>\n",
       "      <th>Average Prediction</th>\n",
       "    </tr>\n",
       "  </thead>\n",
       "  <tbody>\n",
       "    <tr>\n",
       "      <th>0</th>\n",
       "      <td>2023-01-01 09:00:00</td>\n",
       "      <td>서초구</td>\n",
       "      <td>9</td>\n",
       "      <td>0</td>\n",
       "      <td>주말</td>\n",
       "      <td>1</td>\n",
       "      <td>71.0</td>\n",
       "      <td>93.092379</td>\n",
       "      <td>92.958571</td>\n",
       "      <td>92.494702</td>\n",
       "      <td>73.848144</td>\n",
       "      <td>82.477112</td>\n",
       "      <td>81.943897</td>\n",
       "      <td>82.939986</td>\n",
       "    </tr>\n",
       "    <tr>\n",
       "      <th>1</th>\n",
       "      <td>2023-01-01 09:00:00</td>\n",
       "      <td>성동구</td>\n",
       "      <td>9</td>\n",
       "      <td>0</td>\n",
       "      <td>주말</td>\n",
       "      <td>1</td>\n",
       "      <td>37.0</td>\n",
       "      <td>51.329414</td>\n",
       "      <td>51.264454</td>\n",
       "      <td>55.904069</td>\n",
       "      <td>48.885704</td>\n",
       "      <td>51.179571</td>\n",
       "      <td>52.176028</td>\n",
       "      <td>51.989781</td>\n",
       "    </tr>\n",
       "    <tr>\n",
       "      <th>2</th>\n",
       "      <td>2023-01-01 09:00:00</td>\n",
       "      <td>성북구</td>\n",
       "      <td>9</td>\n",
       "      <td>0</td>\n",
       "      <td>주말</td>\n",
       "      <td>1</td>\n",
       "      <td>50.0</td>\n",
       "      <td>70.875048</td>\n",
       "      <td>70.736490</td>\n",
       "      <td>70.450702</td>\n",
       "      <td>61.640803</td>\n",
       "      <td>64.114463</td>\n",
       "      <td>64.951275</td>\n",
       "      <td>65.401989</td>\n",
       "    </tr>\n",
       "    <tr>\n",
       "      <th>3</th>\n",
       "      <td>2023-01-01 09:00:00</td>\n",
       "      <td>송파구</td>\n",
       "      <td>9</td>\n",
       "      <td>0</td>\n",
       "      <td>주말</td>\n",
       "      <td>1</td>\n",
       "      <td>124.0</td>\n",
       "      <td>160.912889</td>\n",
       "      <td>160.663204</td>\n",
       "      <td>158.944535</td>\n",
       "      <td>154.453780</td>\n",
       "      <td>159.021630</td>\n",
       "      <td>161.572281</td>\n",
       "      <td>157.473315</td>\n",
       "    </tr>\n",
       "    <tr>\n",
       "      <th>4</th>\n",
       "      <td>2023-01-01 09:00:00</td>\n",
       "      <td>양천구</td>\n",
       "      <td>9</td>\n",
       "      <td>0</td>\n",
       "      <td>주말</td>\n",
       "      <td>1</td>\n",
       "      <td>56.0</td>\n",
       "      <td>58.335773</td>\n",
       "      <td>58.243148</td>\n",
       "      <td>61.113861</td>\n",
       "      <td>50.560986</td>\n",
       "      <td>52.604213</td>\n",
       "      <td>52.176028</td>\n",
       "      <td>54.759687</td>\n",
       "    </tr>\n",
       "  </tbody>\n",
       "</table>\n",
       "</div>"
      ],
      "text/plain": [
       "              datetime pick_rgn2_nm  hour_reg  is_rain day_of_reg  is_holiday   \n",
       "0  2023-01-01 09:00:00          서초구         9        0         주말           1  \\\n",
       "1  2023-01-01 09:00:00          성동구         9        0         주말           1   \n",
       "2  2023-01-01 09:00:00          성북구         9        0         주말           1   \n",
       "3  2023-01-01 09:00:00          송파구         9        0         주말           1   \n",
       "4  2023-01-01 09:00:00          양천구         9        0         주말           1   \n",
       "\n",
       "   y_test  y_pred_test_LinearRegression  y_pred_test_Ridge  y_pred_test_Lasso   \n",
       "0    71.0                     93.092379          92.958571          92.494702  \\\n",
       "1    37.0                     51.329414          51.264454          55.904069   \n",
       "2    50.0                     70.875048          70.736490          70.450702   \n",
       "3   124.0                    160.912889         160.663204         158.944535   \n",
       "4    56.0                     58.335773          58.243148          61.113861   \n",
       "\n",
       "   y_pred_test_LGBMRegressor  y_pred_test_RandomForestRegressor   \n",
       "0                  73.848144                          82.477112  \\\n",
       "1                  48.885704                          51.179571   \n",
       "2                  61.640803                          64.114463   \n",
       "3                 154.453780                         159.021630   \n",
       "4                  50.560986                          52.604213   \n",
       "\n",
       "   y_pred_test_DecisionTreeRegressor  Average Prediction  \n",
       "0                          81.943897           82.939986  \n",
       "1                          52.176028           51.989781  \n",
       "2                          64.951275           65.401989  \n",
       "3                         161.572281          157.473315  \n",
       "4                          52.176028           54.759687  "
      ]
     },
     "execution_count": 86,
     "metadata": {},
     "output_type": "execute_result"
    }
   ],
   "source": [
    "buffer_df = pd.read_csv(\"prediction_results_test_set.csv\", encoding = \"cp949\")\n",
    "buffer_df.head()"
   ]
  },
  {
   "cell_type": "code",
   "execution_count": 91,
   "metadata": {},
   "outputs": [
    {
     "data": {
      "text/html": [
       "<div>\n",
       "<style scoped>\n",
       "    .dataframe tbody tr th:only-of-type {\n",
       "        vertical-align: middle;\n",
       "    }\n",
       "\n",
       "    .dataframe tbody tr th {\n",
       "        vertical-align: top;\n",
       "    }\n",
       "\n",
       "    .dataframe thead th {\n",
       "        text-align: right;\n",
       "    }\n",
       "</style>\n",
       "<table border=\"1\" class=\"dataframe\">\n",
       "  <thead>\n",
       "    <tr style=\"text-align: right;\">\n",
       "      <th></th>\n",
       "      <th>datetime</th>\n",
       "      <th>pick_rgn2_nm</th>\n",
       "      <th>hour_reg</th>\n",
       "      <th>is_rain</th>\n",
       "      <th>day_of_reg</th>\n",
       "      <th>is_holiday</th>\n",
       "      <th>y_test</th>\n",
       "      <th>y_pred_test_LinearRegression</th>\n",
       "      <th>y_pred_test_Ridge</th>\n",
       "      <th>y_pred_test_Lasso</th>\n",
       "      <th>y_pred_test_LGBMRegressor</th>\n",
       "      <th>y_pred_test_RandomForestRegressor</th>\n",
       "      <th>y_pred_test_DecisionTreeRegressor</th>\n",
       "      <th>Average Prediction</th>\n",
       "      <th>y_pred_test_avg</th>\n",
       "      <th>buffer_value</th>\n",
       "    </tr>\n",
       "  </thead>\n",
       "  <tbody>\n",
       "    <tr>\n",
       "      <th>0</th>\n",
       "      <td>2023-01-01 09:00:00</td>\n",
       "      <td>서초구</td>\n",
       "      <td>9</td>\n",
       "      <td>0</td>\n",
       "      <td>주말</td>\n",
       "      <td>1</td>\n",
       "      <td>71.0</td>\n",
       "      <td>93.092379</td>\n",
       "      <td>92.958571</td>\n",
       "      <td>92.494702</td>\n",
       "      <td>73.848144</td>\n",
       "      <td>82.477112</td>\n",
       "      <td>81.943897</td>\n",
       "      <td>82.939986</td>\n",
       "      <td>82.939986</td>\n",
       "      <td>0.856041</td>\n",
       "    </tr>\n",
       "    <tr>\n",
       "      <th>1</th>\n",
       "      <td>2023-01-01 09:00:00</td>\n",
       "      <td>성동구</td>\n",
       "      <td>9</td>\n",
       "      <td>0</td>\n",
       "      <td>주말</td>\n",
       "      <td>1</td>\n",
       "      <td>37.0</td>\n",
       "      <td>51.329414</td>\n",
       "      <td>51.264454</td>\n",
       "      <td>55.904069</td>\n",
       "      <td>48.885704</td>\n",
       "      <td>51.179571</td>\n",
       "      <td>52.176028</td>\n",
       "      <td>51.989781</td>\n",
       "      <td>51.989781</td>\n",
       "      <td>0.711678</td>\n",
       "    </tr>\n",
       "    <tr>\n",
       "      <th>2</th>\n",
       "      <td>2023-01-01 09:00:00</td>\n",
       "      <td>성북구</td>\n",
       "      <td>9</td>\n",
       "      <td>0</td>\n",
       "      <td>주말</td>\n",
       "      <td>1</td>\n",
       "      <td>50.0</td>\n",
       "      <td>70.875048</td>\n",
       "      <td>70.736490</td>\n",
       "      <td>70.450702</td>\n",
       "      <td>61.640803</td>\n",
       "      <td>64.114463</td>\n",
       "      <td>64.951275</td>\n",
       "      <td>65.401989</td>\n",
       "      <td>65.401989</td>\n",
       "      <td>0.764503</td>\n",
       "    </tr>\n",
       "    <tr>\n",
       "      <th>3</th>\n",
       "      <td>2023-01-01 09:00:00</td>\n",
       "      <td>송파구</td>\n",
       "      <td>9</td>\n",
       "      <td>0</td>\n",
       "      <td>주말</td>\n",
       "      <td>1</td>\n",
       "      <td>124.0</td>\n",
       "      <td>160.912889</td>\n",
       "      <td>160.663204</td>\n",
       "      <td>158.944535</td>\n",
       "      <td>154.453780</td>\n",
       "      <td>159.021630</td>\n",
       "      <td>161.572281</td>\n",
       "      <td>157.473315</td>\n",
       "      <td>157.473315</td>\n",
       "      <td>0.787435</td>\n",
       "    </tr>\n",
       "    <tr>\n",
       "      <th>4</th>\n",
       "      <td>2023-01-01 09:00:00</td>\n",
       "      <td>양천구</td>\n",
       "      <td>9</td>\n",
       "      <td>0</td>\n",
       "      <td>주말</td>\n",
       "      <td>1</td>\n",
       "      <td>56.0</td>\n",
       "      <td>58.335773</td>\n",
       "      <td>58.243148</td>\n",
       "      <td>61.113861</td>\n",
       "      <td>50.560986</td>\n",
       "      <td>52.604213</td>\n",
       "      <td>52.176028</td>\n",
       "      <td>54.759687</td>\n",
       "      <td>54.759687</td>\n",
       "      <td>1.022650</td>\n",
       "    </tr>\n",
       "  </tbody>\n",
       "</table>\n",
       "</div>"
      ],
      "text/plain": [
       "              datetime pick_rgn2_nm  hour_reg  is_rain day_of_reg  is_holiday   \n",
       "0  2023-01-01 09:00:00          서초구         9        0         주말           1  \\\n",
       "1  2023-01-01 09:00:00          성동구         9        0         주말           1   \n",
       "2  2023-01-01 09:00:00          성북구         9        0         주말           1   \n",
       "3  2023-01-01 09:00:00          송파구         9        0         주말           1   \n",
       "4  2023-01-01 09:00:00          양천구         9        0         주말           1   \n",
       "\n",
       "   y_test  y_pred_test_LinearRegression  y_pred_test_Ridge  y_pred_test_Lasso   \n",
       "0    71.0                     93.092379          92.958571          92.494702  \\\n",
       "1    37.0                     51.329414          51.264454          55.904069   \n",
       "2    50.0                     70.875048          70.736490          70.450702   \n",
       "3   124.0                    160.912889         160.663204         158.944535   \n",
       "4    56.0                     58.335773          58.243148          61.113861   \n",
       "\n",
       "   y_pred_test_LGBMRegressor  y_pred_test_RandomForestRegressor   \n",
       "0                  73.848144                          82.477112  \\\n",
       "1                  48.885704                          51.179571   \n",
       "2                  61.640803                          64.114463   \n",
       "3                 154.453780                         159.021630   \n",
       "4                  50.560986                          52.604213   \n",
       "\n",
       "   y_pred_test_DecisionTreeRegressor  Average Prediction  y_pred_test_avg   \n",
       "0                          81.943897           82.939986        82.939986  \\\n",
       "1                          52.176028           51.989781        51.989781   \n",
       "2                          64.951275           65.401989        65.401989   \n",
       "3                         161.572281          157.473315       157.473315   \n",
       "4                          52.176028           54.759687        54.759687   \n",
       "\n",
       "   buffer_value  \n",
       "0      0.856041  \n",
       "1      0.711678  \n",
       "2      0.764503  \n",
       "3      0.787435  \n",
       "4      1.022650  "
      ]
     },
     "execution_count": 91,
     "metadata": {},
     "output_type": "execute_result"
    }
   ],
   "source": [
    "buffer_df['buffer_value'] = buffer_df['y_test'] / buffer_df['y_pred_test_avg']\n",
    "buffer_df.head()"
   ]
  },
  {
   "cell_type": "code",
   "execution_count": null,
   "metadata": {},
   "outputs": [],
   "source": []
  },
  {
   "cell_type": "code",
   "execution_count": null,
   "metadata": {},
   "outputs": [],
   "source": []
  },
  {
   "cell_type": "code",
   "execution_count": null,
   "metadata": {},
   "outputs": [],
   "source": []
  },
  {
   "cell_type": "code",
   "execution_count": null,
   "metadata": {},
   "outputs": [],
   "source": []
  }
 ],
 "metadata": {
  "kernelspec": {
   "display_name": "Python 3",
   "language": "python",
   "name": "python3"
  },
  "language_info": {
   "codemirror_mode": {
    "name": "ipython",
    "version": 3
   },
   "file_extension": ".py",
   "mimetype": "text/x-python",
   "name": "python",
   "nbconvert_exporter": "python",
   "pygments_lexer": "ipython3",
   "version": "3.9.6"
  },
  "orig_nbformat": 4
 },
 "nbformat": 4,
 "nbformat_minor": 2
}
