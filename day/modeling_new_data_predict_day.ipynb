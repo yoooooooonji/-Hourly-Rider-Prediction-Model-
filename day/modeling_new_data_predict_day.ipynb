{
 "cells": [
  {
   "attachments": {},
   "cell_type": "markdown",
   "metadata": {},
   "source": [
    "## 최신 6일 라이더 운행 인원 예측"
   ]
  },
  {
   "attachments": {},
   "cell_type": "markdown",
   "metadata": {},
   "source": [
    "### 1. import new_dataset "
   ]
  },
  {
   "cell_type": "code",
   "execution_count": null,
   "metadata": {},
   "outputs": [],
   "source": [
    "import numpy as np\n",
    "import matplotlib.pyplot as plt\n",
    "import pandas as pd\n",
    "from time import time\n",
    "from datetime import datetime, timedelta \n",
    "import joblib\n",
    "import json\n",
    "import requests \n",
    "\n",
    "# sklearn 관련\n",
    "from sklearn.model_selection import train_test_split\n",
    "from sklearn.model_selection import cross_validate\n",
    "from sklearn.model_selection import cross_val_score\n",
    "from sklearn.preprocessing import OneHotEncoder\n",
    "from sklearn.linear_model import LinearRegression\n",
    "from sklearn.linear_model import Ridge, Lasso\n",
    "from sklearn.svm import SVR\n",
    "from sklearn.tree import DecisionTreeRegressor\n",
    "from sklearn.ensemble import RandomForestRegressor\n",
    "from sklearn.linear_model import LinearRegression\n",
    "from sklearn.model_selection import GridSearchCV\n",
    "from sklearn.metrics import mean_squared_error, mean_absolute_error, r2_score, mean_absolute_percentage_error\n",
    "import ast \n",
    "import statsmodels.api as sm \n",
    "from pandas import json_normalize\n",
    "\n",
    "# 전처리 \n",
    "from sklearn.preprocessing import StandardScaler\n",
    "from sklearn.preprocessing import MinMaxScaler\n",
    "\n",
    "# lightgbm 관련\n",
    "from lightgbm import LGBMRegressor\n",
    "from lightgbm import plot_importance"
   ]
  },
  {
   "attachments": {},
   "cell_type": "markdown",
   "metadata": {},
   "source": [
    "###### data download : https://redash.woowa.in/queries/26484/source?p_dateFrom=2023-01-01&p_dateTo=d_yesterday \n",
    "###### weather download : https://data.kma.go.kr/data/grnd/selectAsosRltmList.do?pgmNo=36"
   ]
  },
  {
   "cell_type": "code",
   "execution_count": null,
   "metadata": {},
   "outputs": [],
   "source": [
    "new_data = pd.read_excel(\"/Users/yj.noh/Desktop/new_data.xlsx\")\n",
    "new_data = new_data.rename(columns={'라이더수': 'rider_cnt', '주문수': 'order_cnt'})\n",
    "\n",
    "new_data['reg_date'] = pd.to_datetime(new_data['reg_date']).dt.date\n",
    "new_data = new_data[(new_data['pick_rgn1_nm'] == '서울특별시') & (new_data['reg_date'] < new_data['reg_date'].max())]\n",
    "\n",
    "print(new_data.shape) # 67395"
   ]
  },
  {
   "cell_type": "code",
   "execution_count": null,
   "metadata": {},
   "outputs": [],
   "source": [
    "#print(new_data['pick_rgn2_nm'].value_counts())\n",
    "print(new_data['hour_reg'].value_counts())\n",
    "print(new_data['reg_date'].min())\n",
    "print(new_data['reg_date'].max())"
   ]
  },
  {
   "cell_type": "code",
   "execution_count": null,
   "metadata": {},
   "outputs": [],
   "source": [
    "# 9~ 23시만 \n",
    "new_data = new_data[new_data['hour_reg'].isin([9, 10, 11, 12, 13, 14, 15, 16, 17, 18, 19, 20, 21, 22, 23])]\n",
    "print(new_data['hour_reg'].value_counts())\n",
    "print(new_data.shape)  # 58125\n",
    "print(new_data['reg_date'].min())\n",
    "print(new_data['reg_date'].max())"
   ]
  },
  {
   "cell_type": "code",
   "execution_count": null,
   "metadata": {},
   "outputs": [],
   "source": [
    "new_data.isna().sum()"
   ]
  },
  {
   "attachments": {},
   "cell_type": "markdown",
   "metadata": {},
   "source": [
    "### 2. 파생변수 생성 - month, week, day_of_reg2, day_of_reg"
   ]
  },
  {
   "cell_type": "code",
   "execution_count": null,
   "metadata": {},
   "outputs": [],
   "source": [
    "new_data['reg_date'] = pd.to_datetime(new_data['reg_date'])\n",
    "#new_data['month'] = new_data['reg_date'].dt.month\n",
    "new_data['week'] = ((new_data['reg_date'].dt.day - 1) // 7) + 1\n",
    "new_data['day_of_reg'] = new_data['reg_date'].dt.strftime('%a')\n",
    "new_data['day_of_reg'] = new_data['day_of_reg'].replace({'Sat': '토요일', 'Sun': '일요일', 'Fri': '금요일', 'Mon': '월요일', 'Tue': '화요일', 'Wed': '수요일', 'Thu': '목요일'})\n",
    "print(new_data['day_of_reg'].value_counts())"
   ]
  },
  {
   "attachments": {},
   "cell_type": "markdown",
   "metadata": {},
   "source": [
    "### 3. reg_date +7, 변수명 변경 "
   ]
  },
  {
   "cell_type": "code",
   "execution_count": null,
   "metadata": {},
   "outputs": [],
   "source": [
    "new_data['reg_date'] = new_data['reg_date'] + pd.DateOffset(days=7)\n",
    "\n",
    "new_data['rider_cnt_w_1'] = new_data['rider_cnt']\n",
    "new_data['order_cnt_w_1'] = new_data['order_cnt']\n",
    "\n",
    "print(new_data['reg_date'].min()) #2023-01-08\n",
    "print(new_data['reg_date'].max()) #2023-06-11\n",
    "\n"
   ]
  },
  {
   "attachments": {},
   "cell_type": "markdown",
   "metadata": {},
   "source": [
    "### 4. 파생변수 생성 - is_holiday "
   ]
  },
  {
   "cell_type": "code",
   "execution_count": null,
   "metadata": {},
   "outputs": [],
   "source": [
    "# #공휴일 가져오기 \n",
    "# import json\n",
    "# from pandas import json_normalize\n",
    "# from urllib.parse import unquote\n",
    "\n",
    "# today = datetime.today().strftime('%Y%m%d')\n",
    "# today_year = datetime.today().year\n",
    "\n",
    "# key = unquote('uw7Y8kgQ1Fqg6z9GjnSN8jJ8S%2FuV%2Bl%2B8PnHC4By9xwtYF5ZAExmO2Ip1mJcQC3HDTDcKmIxB9rBBuI0gDaIYVA%3D%3D')\n",
    "# url = \"https://apis.data.go.kr/B090041/openapi/service/SpcdeInfoService/getRestDeInfo?&solYear=\"+ str(today_year)+ '&ServiceKey=' + str(key) \n",
    "\n",
    "# response = requests.get(url)\n",
    "\n",
    "# if response.status_code == 200 :\n",
    "#     json_ob = json.loads(response.text)\n",
    "#     holidays_new_data = json_ob['response']['body']['items']['item']\n",
    "#     new_dataframe = json_normalize(holidays_new_data)\n",
    "\n",
    "# holiday_list = new_dataframe['locdate'].tolist()\n",
    "# print(holiday_list)\n"
   ]
  },
  {
   "cell_type": "code",
   "execution_count": null,
   "metadata": {},
   "outputs": [],
   "source": [
    "holiday_list = [datetime.strptime(date, '%Y-%m-%d').date() for date in ['2022-01-01', '2022-01-31', '2022-02-01', '2022-03-01', '2022-03-09', '2022-05-05', '2022-05-08', '2022-06-01', '2022-06-06', '2022-08-15', \n",
    "                '2022-09-09', '2022-09-10', '2022-09-11', '2022-09-12', '2022-10-03', '2022-10-09', '2022-10-10', '2022-12-25', '2023-01-01', '2023-01-21', \n",
    "                '2023-01-22', '2023-01-23', '2023-01-24', '2023-03-01', '2023-05-01', '2023-05-05', '2023-05-27', '2023-05-29', '2023-06-06', '2023-08-15', \n",
    "                '2023-09-28', '2023-09-29', '2023-09-30', '2023-10-03', '2023-10-09', '2023-12-25']]\n",
    "\n",
    "new_data['holiday_yn'] = new_data.apply(lambda row: 1 if (row['reg_date'].date() in holiday_list) or (row['day_of_reg'] in ['토요일', '일요일']) else 0, axis=1)\n",
    "print(new_data['holiday_yn'].value_counts())  "
   ]
  },
  {
   "attachments": {},
   "cell_type": "markdown",
   "metadata": {},
   "source": [
    "### 4. 파생변수 생성 - is_rain "
   ]
  },
  {
   "cell_type": "code",
   "execution_count": null,
   "metadata": {},
   "outputs": [],
   "source": [
    "new_data['reg_date'] = pd.to_datetime(new_data['reg_date']).dt.date\n",
    "\n",
    "weather = pd.read_csv(\"/Users/yj.noh/Desktop/weather_2023.csv\", encoding='cp949')\n",
    "\n",
    "weather = weather.rename(columns={'기온(°C)': 'temp_c', '강수량(mm)': 'rain_c', '적설(cm)': 'snow_c', '일시': 'date'})\n",
    "\n",
    "weather['date_2'] = pd.to_datetime(weather['date']).dt.date\n",
    "weather['hour'] = pd.to_datetime(weather['date']).dt.hour\n",
    "\n",
    "weather = weather[weather['hour'].isin([9,10,11,12,13,14,15,16,17,18,19,20,21,22,23])]\n",
    "\n",
    "new_data = pd.merge(new_data, weather[['date_2', 'hour','rain_c', 'snow_c']], left_on=['reg_date', 'hour_reg'], right_on=['date_2', 'hour'], how='left')\n",
    "\n",
    "new_data['rain_c'] = new_data['rain_c'].fillna(0)\n",
    "new_data['snow_c'] = new_data['snow_c'].fillna(0)\n",
    "\n",
    "new_data['is_rain'] = np.where((new_data['rain_c'] > 0) | (new_data['snow_c'] > 0), 1, 0)\n",
    "\n",
    "print(new_data['is_rain'].value_counts()) "
   ]
  },
  {
   "cell_type": "code",
   "execution_count": null,
   "metadata": {},
   "outputs": [],
   "source": [
    "# 날짜만 입력 \n",
    "# new_data['is_rain'] = new_data['reg_date'].apply(lambda x: 1 if x.date() == datetime.strptime('2023-05-18', '%Y-%m-%d').date() else 0)\n",
    "# print(new_data['is_rain'].value_counts()) #375\n",
    "\n",
    "# 비오는 날씨 입력 \n",
    "rain_list = [datetime.strptime(date, '%Y-%m-%d').date() for date in ['2023-06-09']]\n",
    "\n",
    "new_data.loc[new_data['reg_date'].isin(rain_list), 'is_rain'] = 1\n",
    "\n",
    "print(new_data['is_rain'].value_counts()) # \n",
    "\n"
   ]
  },
  {
   "cell_type": "code",
   "execution_count": null,
   "metadata": {},
   "outputs": [],
   "source": [
    "print(new_data.shape) \n",
    "print(new_data['reg_date'].min())\n",
    "print(new_data['reg_date'].max())\n",
    "\n",
    "#print(new_data.isna().sum())"
   ]
  },
  {
   "attachments": {},
   "cell_type": "markdown",
   "metadata": {},
   "source": [
    "### rain_group 추가"
   ]
  },
  {
   "cell_type": "code",
   "execution_count": null,
   "metadata": {},
   "outputs": [],
   "source": [
    "not_rain = [datetime.strptime(date, '%Y-%m-%d').date() for date in ['2023-06-06', '2023-06-07', '2023-06-08','2023-06-09', '2023-06-10', '2023-06-11']]\n",
    "new_data.loc[new_data['reg_date'].isin(not_rain), 'rain_group'] = 'no'\n",
    "\n",
    "# def assign_rain_group(rain_c):\n",
    "#     if rain_c <= 0:\n",
    "#         return \"no\"\n",
    "#     elif 0 < rain_c and rain_c < 3.0:\n",
    "#         return \"weak\"\n",
    "#     elif 3.0 <= rain_c and rain_c < 15:\n",
    "#         return \"normal\"\n",
    "#     elif 15 <= rain_c and rain_c < 30:\n",
    "#         return \"strong\"\n",
    "#     elif 30 <= rain_c:\n",
    "#         return \"very_strong\"\n",
    "\n",
    "\n",
    "print(new_data['rain_group'].value_counts())\n"
   ]
  },
  {
   "attachments": {},
   "cell_type": "markdown",
   "metadata": {},
   "source": [
    "### 5. 파생변수 생성 -  w-1,w-2,w-3,w-4 동일요일, 동일 시간대 주문수, 라이더 수 "
   ]
  },
  {
   "cell_type": "code",
   "execution_count": null,
   "metadata": {},
   "outputs": [],
   "source": [
    "new_data = new_data.sort_values(['reg_date', 'pick_rgn2_nm'])\n",
    "new_data['rider_cnt_w_2'] = new_data.groupby(['pick_rgn2_nm', 'day_of_reg', 'hour_reg','is_rain'])['rider_cnt'].shift(1)\n",
    "new_data['rider_cnt_w_3'] = new_data.groupby(['pick_rgn2_nm', 'day_of_reg', 'hour_reg','is_rain'])['rider_cnt'].shift(2)\n",
    "new_data['rider_cnt_w_4'] = new_data.groupby(['pick_rgn2_nm', 'day_of_reg', 'hour_reg','is_rain'])['rider_cnt'].shift(3)\n",
    "\n",
    "print(new_data.isna().sum())"
   ]
  },
  {
   "cell_type": "code",
   "execution_count": null,
   "metadata": {},
   "outputs": [],
   "source": [
    "# 결측치 애우기 \n",
    "\n",
    "new_data = new_data.sort_values(by=['pick_rgn2_nm', 'day_of_reg', 'hour_reg'])\n",
    "\n",
    "#new_data['rider_cnt_w_1'] = new_data.groupby(['pick_rgn2_nm', 'day_of_reg', 'hour_reg'])['rider_cnt'].shift(1)\n",
    "new_data['rider_cnt_w_1'].fillna(new_data['rider_cnt'], inplace=True)\n",
    "\n",
    "#new_data['rider_cnt_w_2'] = new_data['rider_cnt_w_1']\n",
    "new_data['rider_cnt_w_2'].fillna(new_data['rider_cnt_w_1'], inplace=True)\n",
    "\n",
    "#new_data['rider_cnt_w_3'] = new_data['rider_cnt_w_2']\n",
    "new_data['rider_cnt_w_3'].fillna(new_data['rider_cnt_w_2'], inplace=True)\n",
    "\n",
    "#new_data['rider_cnt_w_4'] = new_data['rider_cnt_w_3']\n",
    "new_data['rider_cnt_w_4'].fillna(new_data['rider_cnt_w_3'], inplace=True)\n",
    "\n",
    "print(new_data.isna().sum())\n",
    "\n"
   ]
  },
  {
   "attachments": {},
   "cell_type": "markdown",
   "metadata": {},
   "source": [
    "### 6. 파생변수 생성 group_s "
   ]
  },
  {
   "cell_type": "code",
   "execution_count": null,
   "metadata": {},
   "outputs": [],
   "source": [
    "def group_assignment(row):\n",
    "    if row['day_of_reg'] in ['월요일','화요일','수요일','목요일','금요일']:\n",
    "        if row['holiday_yn'] == 0 and row['is_rain'] == 0:\n",
    "            return 'A'\n",
    "        elif row['holiday_yn'] == 0 and row['is_rain'] == 1:\n",
    "            return 'B'\n",
    "        elif row['holiday_yn'] == 1 and row['is_rain'] == 0:\n",
    "            return 'C'\n",
    "        elif row['holiday_yn'] == 1 and row['is_rain'] == 1:\n",
    "            return 'D'\n",
    "    elif row['day_of_reg'] in ['토요일','일요일']:\n",
    "        if row['holiday_yn'] == 0 and row['is_rain'] == 0:\n",
    "            return 'E'\n",
    "        elif row['holiday_yn'] == 0 and row['is_rain'] == 1:\n",
    "            return 'F'\n",
    " \n",
    "new_data['group_s'] = new_data.apply(group_assignment, axis=1)\n",
    "print(new_data['group_s'].value_counts())"
   ]
  },
  {
   "cell_type": "code",
   "execution_count": null,
   "metadata": {},
   "outputs": [],
   "source": [
    "tomorrow = (datetime.now() + timedelta(days=1)).date()\n",
    "\n",
    "new_data = new_data[new_data['reg_date'].apply(lambda x: x) >= tomorrow] # 내일날짜부터 예측되게끔. \n",
    "new_data.to_csv('predict_new_data.csv', encoding='cp949', index=False)\n",
    "\n",
    "print(new_data.shape)  # (2,250, num_columns)\n",
    "#print(new_data.info())\n",
    "print(new_data['reg_date'].min()) "
   ]
  },
  {
   "attachments": {},
   "cell_type": "markdown",
   "metadata": {},
   "source": [
    "### 7. 데이터 전처리 "
   ]
  },
  {
   "cell_type": "code",
   "execution_count": null,
   "metadata": {},
   "outputs": [],
   "source": [
    "# category  - pick_rgn2_nm, hour_reg, day_of_reg, is_rain, month, week, is_holiday\n",
    "for col in ['pick_rgn2_nm', 'hour_reg', 'day_of_reg', 'rain_group', 'week', 'holiday_yn', 'group_s'] : \n",
    "   new_data.loc[:, col] = new_data.loc[:, col].astype('category')\n",
    "\n",
    "print(new_data.dtypes)"
   ]
  },
  {
   "cell_type": "code",
   "execution_count": null,
   "metadata": {},
   "outputs": [],
   "source": [
    "# one-hot-encoding\n",
    "\n",
    "new_data = new_data.drop(['rain_c','snow_c', 'date_2','hour','is_rain'], axis=1)\n",
    "\n",
    "var = ['pick_rgn2_nm', 'hour_reg','day_of_reg', 'rain_group','week','holiday_yn', 'group_s']\n",
    "\n",
    "encode_data = new_data.sort_values(by=\"reg_date\")\n",
    "X_test = encode_data.drop(columns = ['reg_date'])\n",
    "\n",
    "encoder = OneHotEncoder()\n",
    "onehot = pd.DataFrame(encoder.fit_transform(encode_data[var]).toarray(), columns=encoder.get_feature_names_out(var), index = encode_data.index)\n",
    "X_test = pd.concat([onehot, X_test.drop(columns=var)], axis=1)\n",
    "\n",
    "print(X_test.columns)"
   ]
  },
  {
   "attachments": {},
   "cell_type": "markdown",
   "metadata": {},
   "source": [
    "### 8. 존재하지 않는 변수 추가하기"
   ]
  },
  {
   "cell_type": "code",
   "execution_count": null,
   "metadata": {},
   "outputs": [],
   "source": [
    "desired_order = ['day_of_reg_금요일', 'day_of_reg_목요일', 'day_of_reg_수요일', 'day_of_reg_월요일',\n",
    "       'day_of_reg_일요일', 'day_of_reg_토요일', 'day_of_reg_화요일',\n",
    "       'pick_rgn2_nm_강남구', 'pick_rgn2_nm_강동구', 'pick_rgn2_nm_강북구',\n",
    "       'pick_rgn2_nm_강서구', 'pick_rgn2_nm_관악구', 'pick_rgn2_nm_광진구',\n",
    "       'pick_rgn2_nm_구로구', 'pick_rgn2_nm_금천구', 'pick_rgn2_nm_노원구',\n",
    "       'pick_rgn2_nm_도봉구', 'pick_rgn2_nm_동대문구', 'pick_rgn2_nm_동작구',\n",
    "       'pick_rgn2_nm_마포구', 'pick_rgn2_nm_서대문구', 'pick_rgn2_nm_서초구',\n",
    "       'pick_rgn2_nm_성동구', 'pick_rgn2_nm_성북구', 'pick_rgn2_nm_송파구',\n",
    "       'pick_rgn2_nm_양천구', 'pick_rgn2_nm_영등포구', 'pick_rgn2_nm_용산구',\n",
    "       'pick_rgn2_nm_은평구', 'pick_rgn2_nm_종로구', 'pick_rgn2_nm_중구',\n",
    "       'pick_rgn2_nm_중랑구', 'hour_reg_9', 'hour_reg_10', 'hour_reg_11',\n",
    "       'hour_reg_12', 'hour_reg_13', 'hour_reg_14', 'hour_reg_15',\n",
    "       'hour_reg_16', 'hour_reg_17', 'hour_reg_18', 'hour_reg_19',\n",
    "       'hour_reg_20', 'hour_reg_21', 'hour_reg_22', 'hour_reg_23', 'group_s_A',\n",
    "       'group_s_B', 'group_s_C', 'group_s_D', 'group_s_E', 'group_s_F',\n",
    "       'is_crm_0', 'is_crm_1', 'rain_group_no', 'rain_group_normal',\n",
    "       'rain_group_strong', 'rain_group_very_strong', 'rain_group_weak',\n",
    "       'holiday_yn_N', 'holiday_yn_Y', 'rider_cnt_w_1', 'rider_cnt_w_2',\n",
    "       'rider_cnt_w_3', 'rider_cnt_w_4', 'order_cnt_w_1']\n",
    "\n",
    "new_variables = [col for col in desired_order if col not in X_test.columns]\n",
    "\n",
    "# 새로운 변수를 포함한 빈 DataFrame 생성\n",
    "encode_data = pd.DataFrame(0, columns=new_variables, index= X_test.index)\n",
    "\n",
    "# 기존 x_test DataFrame과 새로운 변수를 포함한 DataFrame을 병합\n",
    "X_test = pd.concat([X_test, encode_data], axis=1)\n",
    "X_test = X_test[desired_order]\n",
    "\n",
    "# 결과 확인\n",
    "#print(X_test.head())\n",
    "print(X_test.columns)"
   ]
  },
  {
   "attachments": {},
   "cell_type": "markdown",
   "metadata": {},
   "source": [
    "### 9. train, test set split "
   ]
  },
  {
   "cell_type": "code",
   "execution_count": null,
   "metadata": {},
   "outputs": [],
   "source": [
    "print(X_test.shape) \n",
    "X_test.isna().sum()"
   ]
  },
  {
   "attachments": {},
   "cell_type": "markdown",
   "metadata": {},
   "source": [
    "### 10. model 적용 "
   ]
  },
  {
   "cell_type": "code",
   "execution_count": null,
   "metadata": {},
   "outputs": [],
   "source": [
    "def get_predict(X_test):\n",
    "\n",
    "    Lasso_model = joblib.load('model_Lasso.joblib')\n",
    "    LGBM_model = joblib.load('model_LGBMRegressor.joblib')\n",
    "    RF_model = joblib.load('model_RandomForestRegressor.joblib')\n",
    "\n",
    "    result_df = pd.DataFrame({'reg_date': new_data[\"reg_date\"],\n",
    "                              'pick_rgn2_nm': new_data[\"pick_rgn2_nm\"], 'hour_reg': new_data[\"hour_reg\"],\n",
    "                              'day_of_reg': new_data[\"day_of_reg\"], 'rain_group': new_data[\"rain_group\"],\n",
    "                              'holiday_yn': new_data[\"holiday_yn\"]})\n",
    "\n",
    "    y_pred_Lasso = Lasso_model.predict(X_test)\n",
    "    y_pred_LGBM = LGBM_model.predict(X_test)\n",
    "    y_pred_RF = RF_model.predict(X_test)\n",
    "    \n",
    "    result_df['y_pred_Lasso'] = y_pred_Lasso\n",
    "    result_df['y_pred_LGBM'] = y_pred_LGBM\n",
    "    result_df['y_pred_RF'] = y_pred_RF\n",
    "    \n",
    "    result_df['y_pred_avg_three'] = (result_df['y_pred_Lasso'] + result_df['y_pred_LGBM'] + result_df['y_pred_RF']) / 3 #3개 모델 예측값 \n",
    "    result_df['y_pred_avg_lgbm_rf'] = (result_df['y_pred_LGBM'] + result_df['y_pred_RF']) / 2\n",
    "\n",
    "\n",
    "    result_df.to_csv('prediction_results_latest6days.csv', index=False, encoding=\"cp949\")\n",
    "\n",
    "\n",
    "get_predict(X_test)"
   ]
  },
  {
   "cell_type": "code",
   "execution_count": null,
   "metadata": {},
   "outputs": [],
   "source": []
  },
  {
   "cell_type": "code",
   "execution_count": null,
   "metadata": {},
   "outputs": [],
   "source": []
  },
  {
   "cell_type": "code",
   "execution_count": null,
   "metadata": {},
   "outputs": [],
   "source": []
  },
  {
   "cell_type": "code",
   "execution_count": null,
   "metadata": {},
   "outputs": [],
   "source": []
  }
 ],
 "metadata": {
  "kernelspec": {
   "display_name": "Python 3",
   "language": "python",
   "name": "python3"
  },
  "language_info": {
   "codemirror_mode": {
    "name": "ipython",
    "version": 3
   },
   "file_extension": ".py",
   "mimetype": "text/x-python",
   "name": "python",
   "nbconvert_exporter": "python",
   "pygments_lexer": "ipython3",
   "version": "3.9.6"
  },
  "orig_nbformat": 4
 },
 "nbformat": 4,
 "nbformat_minor": 2
}
