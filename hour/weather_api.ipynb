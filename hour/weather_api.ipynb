{
 "cells": [
  {
   "cell_type": "code",
   "execution_count": 23,
   "metadata": {},
   "outputs": [],
   "source": [
    "from urllib.request import urlopen\n",
    "from urllib.parse import urlencode, unquote, quote_plus\n",
    "import urllib\n",
    "import requests\n",
    "import json\n",
    "import pandas as pd\n",
    "from datetime import datetime, timedelta\n",
    "import warnings\n",
    "import xmltodict \n",
    "warnings.filterwarnings('ignore')"
   ]
  },
  {
   "cell_type": "code",
   "execution_count": 52,
   "metadata": {},
   "outputs": [
    {
     "name": "stdout",
     "output_type": "stream",
     "text": [
      "1200시에 강수형태 0\n",
      "1300시에 강수형태 0\n",
      "1400시에 강수형태 0\n",
      "1500시에 강수형태 0\n",
      "1600시에 강수형태 0\n",
      "1700시에 강수형태 0\n",
      "{'1200': '0', '1300': '0', '1400': '0', '1500': '0', '1600': '0', '1700': '0'}\n"
     ]
    }
   ],
   "source": [
    "# 초단기예보 : base_time ~ 6시간 이내 \n",
    "url = \"http://apis.data.go.kr/1360000/VilageFcstInfoService_2.0/getUltraSrtFcst\" + \\\n",
    "    \"?serviceKey=uw7Y8kgQ1Fqg6z9GjnSN8jJ8S%2FuV%2Bl%2B8PnHC4By9xwtYF5ZAExmO2Ip1mJcQC3HDTDcKmIxB9rBBuI0gDaIYVA%3D%3D\" + \\\n",
    "    \"&numOfRows=100&pageNo=1\" + \\\n",
    "    \"&base_date=20230523&base_time=1130&nx=61&ny=125&dataType=JSON\"\n",
    "    \n",
    "answer = urlopen(url).read()\n",
    "data = json.loads(answer)\n",
    "rain = dict()\n",
    "\n",
    "for item in data[\"response\"][\"body\"][\"items\"][\"item\"]:\n",
    "    if item[\"category\"] == \"PTY\":\n",
    "        rain[item[\"fcstTime\"]] = item[\"fcstValue\"]\n",
    "for k, v in rain.items():\n",
    "    print(\"{}시에 강수형태 {}\".format(k, v))\n",
    "    \n",
    "print(rain)"
   ]
  },
  {
   "cell_type": "code",
   "execution_count": 79,
   "metadata": {},
   "outputs": [
    {
     "name": "stdout",
     "output_type": "stream",
     "text": [
      "{'response': {'header': {'resultCode': '00', 'resultMsg': 'NORMAL_SERVICE'}, 'body': {'dataType': 'JSON', 'items': {'item': [{'baseDate': '20230523', 'baseTime': '0600', 'category': 'PTY', 'nx': 55, 'ny': 127, 'obsrValue': '0'}, {'baseDate': '20230523', 'baseTime': '0600', 'category': 'REH', 'nx': 55, 'ny': 127, 'obsrValue': '66'}, {'baseDate': '20230523', 'baseTime': '0600', 'category': 'RN1', 'nx': 55, 'ny': 127, 'obsrValue': '0'}, {'baseDate': '20230523', 'baseTime': '0600', 'category': 'T1H', 'nx': 55, 'ny': 127, 'obsrValue': '16.7'}, {'baseDate': '20230523', 'baseTime': '0600', 'category': 'UUU', 'nx': 55, 'ny': 127, 'obsrValue': '-0.1'}, {'baseDate': '20230523', 'baseTime': '0600', 'category': 'VEC', 'nx': 55, 'ny': 127, 'obsrValue': '11'}, {'baseDate': '20230523', 'baseTime': '0600', 'category': 'VVV', 'nx': 55, 'ny': 127, 'obsrValue': '-0.8'}, {'baseDate': '20230523', 'baseTime': '0600', 'category': 'WSD', 'nx': 55, 'ny': 127, 'obsrValue': '0.9'}]}, 'pageNo': 1, 'numOfRows': 1000, 'totalCount': 8}}}\n"
     ]
    }
   ],
   "source": [
    "# 매일 오전 6시 - 그 당일의 예보 (일단위)\n",
    "url = \"http://apis.data.go.kr/1360000/VilageFcstInfoService_2.0/getUltraSrtNcst\" + \\\n",
    "    \"?serviceKey=uw7Y8kgQ1Fqg6z9GjnSN8jJ8S%2FuV%2Bl%2B8PnHC4By9xwtYF5ZAExmO2Ip1mJcQC3HDTDcKmIxB9rBBuI0gDaIYVA%3D%3D\" + \\\n",
    "    \"&numOfRows=1000&pageNo=1\" + \\\n",
    "    \"&base_date=20230523&base_time=0600&nx=55&ny=127&dataType=JSON\"\n",
    "    \n",
    "answer = urlopen(url).read()\n",
    "data = json.loads(answer)\n",
    "print(data)\n",
    "\n",
    "# for item in data[\"response\"][\"body\"][\"items\"][\"item\"]:\n",
    "#     if item[\"category\"] == \"PTY\":\n",
    "#         rain[item[\"fcstTime\"]] = item[\"fcstValue\"]\n",
    "# for k, v in rain.items():\n",
    "#     print(\"{}시에 강수형태 {}\".format(k, v))\n",
    "    \n",
    "# print(rain)"
   ]
  },
  {
   "cell_type": "code",
   "execution_count": 89,
   "metadata": {},
   "outputs": [
    {
     "name": "stdout",
     "output_type": "stream",
     "text": [
      "{'response': {'header': {'resultCode': '00', 'resultMsg': 'NORMAL_SERVICE'}, 'body': {'dataType': 'JSON', 'items': {'item': [{'regId': '11B00000', 'rnSt3Am': 80, 'rnSt3Pm': 90, 'rnSt4Am': 40, 'rnSt4Pm': 40, 'rnSt5Am': 40, 'rnSt5Pm': 90, 'rnSt6Am': 90, 'rnSt6Pm': 40, 'rnSt7Am': 40, 'rnSt7Pm': 40, 'rnSt8': 40, 'rnSt9': 10, 'rnSt10': 10, 'wf3Am': '흐리고 비', 'wf3Pm': '흐리고 비', 'wf4Am': '흐림', 'wf4Pm': '흐림', 'wf5Am': '흐림', 'wf5Pm': '흐리고 비', 'wf6Am': '흐리고 비', 'wf6Pm': '흐림', 'wf7Am': '흐림', 'wf7Pm': '흐림', 'wf8': '흐림', 'wf9': '맑음', 'wf10': '맑음'}]}, 'pageNo': 1, 'numOfRows': 1000, 'totalCount': 1}}}\n"
     ]
    }
   ],
   "source": [
    "# 중기육상예보 \n",
    "url = \"https://apis.data.go.kr/1360000/MidFcstInfoService/getMidLandFcst\" + \\\n",
    "    \"?serviceKey=uw7Y8kgQ1Fqg6z9GjnSN8jJ8S%2FuV%2Bl%2B8PnHC4By9xwtYF5ZAExmO2Ip1mJcQC3HDTDcKmIxB9rBBuI0gDaIYVA%3D%3D\" + \\\n",
    "    \"&numOfRows=1000&pageNo=1\" + \\\n",
    "    \"&regId=11B00000&tmFc=202305230600&dataType=JSON\"\n",
    "    \n",
    "answer = urlopen(url).read()\n",
    "data = json.loads(answer)\n",
    "print(data)\n"
   ]
  },
  {
   "cell_type": "code",
   "execution_count": null,
   "metadata": {},
   "outputs": [],
   "source": []
  }
 ],
 "metadata": {
  "kernelspec": {
   "display_name": "Python 3",
   "language": "python",
   "name": "python3"
  },
  "language_info": {
   "codemirror_mode": {
    "name": "ipython",
    "version": 3
   },
   "file_extension": ".py",
   "mimetype": "text/x-python",
   "name": "python",
   "nbconvert_exporter": "python",
   "pygments_lexer": "ipython3",
   "version": "3.9.6"
  },
  "orig_nbformat": 4
 },
 "nbformat": 4,
 "nbformat_minor": 2
}
