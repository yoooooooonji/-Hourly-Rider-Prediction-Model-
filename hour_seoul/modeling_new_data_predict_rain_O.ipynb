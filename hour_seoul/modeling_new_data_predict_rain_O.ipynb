{
 "cells": [
  {
   "attachments": {},
   "cell_type": "markdown",
   "metadata": {},
   "source": [
    "## 최신 6일 라이더 운행 인원 예측"
   ]
  },
  {
   "attachments": {},
   "cell_type": "markdown",
   "metadata": {},
   "source": [
    "### 1. import new_dataset "
   ]
  },
  {
   "cell_type": "code",
   "execution_count": 3,
   "metadata": {},
   "outputs": [],
   "source": [
    "import numpy as np\n",
    "import matplotlib.pyplot as plt\n",
    "import pandas as pd\n",
    "from time import time\n",
    "from datetime import datetime, timedelta \n",
    "import joblib\n",
    "import json\n",
    "import requests \n",
    "\n",
    "# sklearn 관련\n",
    "from sklearn.model_selection import train_test_split\n",
    "from sklearn.model_selection import cross_validate\n",
    "from sklearn.model_selection import cross_val_score\n",
    "from sklearn.preprocessing import OneHotEncoder\n",
    "from sklearn.linear_model import LinearRegression\n",
    "from sklearn.linear_model import Ridge, Lasso\n",
    "from sklearn.svm import SVR\n",
    "from sklearn.tree import DecisionTreeRegressor\n",
    "from sklearn.ensemble import RandomForestRegressor\n",
    "from sklearn.linear_model import LinearRegression\n",
    "from sklearn.model_selection import GridSearchCV\n",
    "from sklearn.metrics import mean_squared_error, mean_absolute_error, r2_score, mean_absolute_percentage_error\n",
    "import ast \n",
    "import statsmodels.api as sm \n",
    "from pandas import json_normalize\n",
    "\n",
    "# 전처리 \n",
    "from sklearn.preprocessing import StandardScaler\n",
    "from sklearn.preprocessing import MinMaxScaler\n",
    "\n",
    "# lightgbm 관련\n",
    "from lightgbm import LGBMRegressor\n",
    "from lightgbm import plot_importance"
   ]
  },
  {
   "cell_type": "code",
   "execution_count": 4,
   "metadata": {},
   "outputs": [
    {
     "name": "stdout",
     "output_type": "stream",
     "text": [
      "(84400, 7)\n"
     ]
    }
   ],
   "source": [
    "new_data = pd.read_excel(\"/Users/yj.noh/Desktop/seoul/seoul_hour_new_data_20230613.xlsx\")\n",
    "new_data = new_data.rename(columns={'라이더수': 'rider_cnt', '주문수': 'order_cnt'})\n",
    "\n",
    "new_data['reg_date'] = pd.to_datetime(new_data['reg_date']).dt.date\n",
    "new_data = new_data[(new_data['pick_rgn1_nm'] == '서울특별시') & (new_data['reg_date'] < new_data['reg_date'].max())]\n",
    "\n",
    "print(new_data.shape) "
   ]
  },
  {
   "cell_type": "code",
   "execution_count": 5,
   "metadata": {},
   "outputs": [
    {
     "name": "stdout",
     "output_type": "stream",
     "text": [
      "hour_reg\n",
      "9     4850\n",
      "17    4850\n",
      "23    4850\n",
      "22    4850\n",
      "21    4850\n",
      "20    4850\n",
      "10    4850\n",
      "18    4850\n",
      "19    4850\n",
      "16    4850\n",
      "15    4850\n",
      "14    4850\n",
      "13    4850\n",
      "12    4850\n",
      "11    4850\n",
      "0     4825\n",
      "1     4825\n",
      "2     1990\n",
      "3        7\n",
      "7        2\n",
      "8        1\n",
      "Name: count, dtype: int64\n",
      "2022-12-01\n",
      "2023-06-12\n"
     ]
    }
   ],
   "source": [
    "#print(new_data['pick_rgn2_nm'].value_counts())\n",
    "print(new_data['hour_reg'].value_counts())\n",
    "print(new_data['reg_date'].min())\n",
    "print(new_data['reg_date'].max())"
   ]
  },
  {
   "cell_type": "code",
   "execution_count": 6,
   "metadata": {},
   "outputs": [
    {
     "name": "stdout",
     "output_type": "stream",
     "text": [
      "hour_reg\n",
      "9     4850\n",
      "10    4850\n",
      "11    4850\n",
      "12    4850\n",
      "13    4850\n",
      "14    4850\n",
      "15    4850\n",
      "16    4850\n",
      "17    4850\n",
      "18    4850\n",
      "19    4850\n",
      "20    4850\n",
      "21    4850\n",
      "22    4850\n",
      "23    4850\n",
      "Name: count, dtype: int64\n",
      "(72750, 7)\n",
      "2022-12-01\n",
      "2023-06-12\n"
     ]
    }
   ],
   "source": [
    "# 9~ 23시만 \n",
    "new_data = new_data[new_data['hour_reg'].isin([9, 10, 11, 12, 13, 14, 15, 16, 17, 18, 19, 20, 21, 22, 23])]\n",
    "print(new_data['hour_reg'].value_counts())\n",
    "print(new_data.shape)  \n",
    "print(new_data['reg_date'].min())\n",
    "print(new_data['reg_date'].max())"
   ]
  },
  {
   "cell_type": "code",
   "execution_count": 7,
   "metadata": {},
   "outputs": [
    {
     "data": {
      "text/plain": [
       "reg_date        0\n",
       "hour_reg        0\n",
       "holiday_yn      0\n",
       "pick_rgn1_nm    0\n",
       "pick_rgn2_nm    0\n",
       "rider_cnt       0\n",
       "order_cnt       0\n",
       "dtype: int64"
      ]
     },
     "execution_count": 7,
     "metadata": {},
     "output_type": "execute_result"
    }
   ],
   "source": [
    "new_data.isna().sum()"
   ]
  },
  {
   "attachments": {},
   "cell_type": "markdown",
   "metadata": {},
   "source": [
    "### 2. 파생변수 생성 - month, week, day_of_reg2, day_of_reg"
   ]
  },
  {
   "cell_type": "code",
   "execution_count": 8,
   "metadata": {},
   "outputs": [
    {
     "name": "stdout",
     "output_type": "stream",
     "text": [
      "day_of_reg\n",
      "목요일    10500\n",
      "금요일    10500\n",
      "토요일    10500\n",
      "일요일    10500\n",
      "월요일    10500\n",
      "화요일    10125\n",
      "수요일    10125\n",
      "Name: count, dtype: int64\n"
     ]
    }
   ],
   "source": [
    "new_data['reg_date'] = pd.to_datetime(new_data['reg_date'])\n",
    "\n",
    "new_data['day_of_reg'] = new_data['reg_date'].dt.strftime('%a')\n",
    "new_data['day_of_reg'] = new_data['day_of_reg'].replace({'Sat': '토요일', 'Sun': '일요일', 'Fri': '금요일', 'Mon': '월요일', 'Tue': '화요일', 'Wed': '수요일', 'Thu': '목요일'})\n",
    "print(new_data['day_of_reg'].value_counts())"
   ]
  },
  {
   "attachments": {},
   "cell_type": "markdown",
   "metadata": {},
   "source": [
    "### 3. reg_date +7, 변수명 변경 "
   ]
  },
  {
   "cell_type": "code",
   "execution_count": 9,
   "metadata": {},
   "outputs": [
    {
     "name": "stdout",
     "output_type": "stream",
     "text": [
      "2022-12-08 00:00:00\n",
      "2023-06-19 00:00:00\n"
     ]
    }
   ],
   "source": [
    "new_data['reg_date'] = new_data['reg_date'] + pd.DateOffset(days=7)\n",
    "\n",
    "new_data['rider_cnt_w_1'] = new_data['rider_cnt']\n",
    "new_data['order_cnt_w_1'] = new_data['order_cnt']\n",
    "\n",
    "print(new_data['reg_date'].min()) #2022-12-08\n",
    "print(new_data['reg_date'].max()) #2023-06-19\n",
    "\n"
   ]
  },
  {
   "attachments": {},
   "cell_type": "markdown",
   "metadata": {},
   "source": [
    "### 4. 파생변수 생성 - is_holiday "
   ]
  },
  {
   "cell_type": "code",
   "execution_count": 10,
   "metadata": {},
   "outputs": [],
   "source": [
    "# #공휴일 가져오기 \n",
    "# import json\n",
    "# from pandas import json_normalize\n",
    "# from urllib.parse import unquote\n",
    "\n",
    "# today = datetime.today().strftime('%Y%m%d')\n",
    "# today_year = datetime.today().year\n",
    "\n",
    "# key = unquote('uw7Y8kgQ1Fqg6z9GjnSN8jJ8S%2FuV%2Bl%2B8PnHC4By9xwtYF5ZAExmO2Ip1mJcQC3HDTDcKmIxB9rBBuI0gDaIYVA%3D%3D')\n",
    "# url = \"https://apis.data.go.kr/B090041/openapi/service/SpcdeInfoService/getRestDeInfo?&solYear=\"+ str(today_year)+ '&ServiceKey=' + str(key) \n",
    "\n",
    "# response = requests.get(url)\n",
    "\n",
    "# if response.status_code == 200 :\n",
    "#     json_ob = json.loads(response.text)\n",
    "#     holidays_new_data = json_ob['response']['body']['items']['item']\n",
    "#     new_dataframe = json_normalize(holidays_new_data)\n",
    "\n",
    "# holiday_list = new_dataframe['locdate'].tolist()\n",
    "# print(holiday_list)\n"
   ]
  },
  {
   "cell_type": "code",
   "execution_count": 11,
   "metadata": {},
   "outputs": [
    {
     "name": "stdout",
     "output_type": "stream",
     "text": [
      "is_holiday\n",
      "0    49125\n",
      "1    23625\n",
      "Name: count, dtype: int64\n"
     ]
    }
   ],
   "source": [
    "holiday_list = [datetime.strptime(date, '%Y-%m-%d').date() for date in ['2022-01-01', '2022-01-31', '2022-02-01', '2022-03-01', '2022-03-09', '2022-05-05', '2022-05-08', '2022-06-01', '2022-06-06', '2022-08-15', \n",
    "                '2022-09-09', '2022-09-10', '2022-09-11', '2022-09-12', '2022-10-03', '2022-10-09', '2022-10-10', '2022-12-25', '2023-01-01', '2023-01-21', \n",
    "                '2023-01-22', '2023-01-23', '2023-01-24', '2023-03-01', '2023-05-01', '2023-05-05', '2023-05-27', '2023-05-29', '2023-06-06', '2023-08-15', \n",
    "                '2023-09-28', '2023-09-29', '2023-09-30', '2023-10-03', '2023-10-09', '2023-12-25']]\n",
    "\n",
    "new_data['is_holiday'] = new_data.apply(lambda row: 1 if (row['reg_date'].date() in holiday_list) or (row['day_of_reg'] in ['토요일', '일요일']) else 0, axis=1)\n",
    "print(new_data['is_holiday'].value_counts())  "
   ]
  },
  {
   "attachments": {},
   "cell_type": "markdown",
   "metadata": {},
   "source": [
    "### 4. 파생변수 생성 - is_rain "
   ]
  },
  {
   "cell_type": "code",
   "execution_count": 12,
   "metadata": {},
   "outputs": [
    {
     "name": "stdout",
     "output_type": "stream",
     "text": [
      "is_rain\n",
      "0    63775\n",
      "1     8975\n",
      "Name: count, dtype: int64\n"
     ]
    }
   ],
   "source": [
    "new_data['reg_date'] = pd.to_datetime(new_data['reg_date']).dt.date\n",
    "\n",
    "weather = pd.read_csv(\"/Users/yj.noh/Desktop/seoul/seoul_hour_weather_20230613.csv\", encoding='cp949')\n",
    "\n",
    "weather = weather.rename(columns={'기온(°C)': 'temp_c', '강수량(mm)': 'rain_c', '적설(cm)': 'snow_c', '일시': 'date'})\n",
    "\n",
    "weather['date_2'] = pd.to_datetime(weather['date']).dt.date\n",
    "weather['hour'] = pd.to_datetime(weather['date']).dt.hour\n",
    "\n",
    "weather = weather[weather['hour'].isin([9,10,11,12,13,14,15,16,17,18,19,20,21,22,23])]\n",
    "\n",
    "new_data = pd.merge(new_data, weather[['date_2', 'hour','rain_c', 'snow_c']], left_on=['reg_date', 'hour_reg'], right_on=['date_2', 'hour'], how='left')\n",
    "\n",
    "new_data['rain_c'] = new_data['rain_c'].fillna(0)\n",
    "new_data['snow_c'] = new_data['snow_c'].fillna(0)\n",
    "\n",
    "new_data['is_rain'] = np.where((new_data['rain_c'] > 0) | (new_data['snow_c'] > 0), 1, 0)\n",
    "\n",
    "print(new_data['is_rain'].value_counts()) "
   ]
  },
  {
   "cell_type": "code",
   "execution_count": 13,
   "metadata": {},
   "outputs": [
    {
     "name": "stdout",
     "output_type": "stream",
     "text": [
      "2023-06-19\n"
     ]
    }
   ],
   "source": [
    "print(new_data['reg_date'].max())"
   ]
  },
  {
   "cell_type": "code",
   "execution_count": 14,
   "metadata": {},
   "outputs": [
    {
     "name": "stdout",
     "output_type": "stream",
     "text": [
      "is_rain\n",
      "0    61525\n",
      "1    11225\n",
      "Name: count, dtype: int64\n"
     ]
    }
   ],
   "source": [
    "# 모두 기상이라고 가정하에 \n",
    "rain_list = [datetime.strptime(date, '%Y-%m-%d').date() for date in ['2023-06-14', '2023-06-15', '2023-06-16', '2023-06-17', '2023-06-18', '2023-06-19']]\n",
    "\n",
    "new_data.loc[new_data['reg_date'].isin(rain_list), 'is_rain'] = 1\n",
    "\n",
    "print(new_data['is_rain'].value_counts()) #\n",
    "\n"
   ]
  },
  {
   "cell_type": "code",
   "execution_count": 15,
   "metadata": {},
   "outputs": [
    {
     "name": "stdout",
     "output_type": "stream",
     "text": [
      "(72750, 16)\n",
      "2022-12-08\n",
      "2023-06-19\n"
     ]
    }
   ],
   "source": [
    "print(new_data.shape) \n",
    "print(new_data['reg_date'].min())\n",
    "print(new_data['reg_date'].max())\n",
    "\n",
    "#print(new_data.isna().sum())"
   ]
  },
  {
   "attachments": {},
   "cell_type": "markdown",
   "metadata": {},
   "source": [
    "### rain_group 추가"
   ]
  },
  {
   "cell_type": "code",
   "execution_count": 16,
   "metadata": {},
   "outputs": [],
   "source": [
    "# not_rain = [datetime.strptime(date, '%Y-%m-%d').date() for date in ['2023-06-06', '2023-06-07', '2023-06-08','2023-06-09', '2023-06-10', '2023-06-11']]\n",
    "# new_data.loc[new_data['reg_date'].isin(not_rain), 'rain_group'] = 'no'\n",
    "\n",
    "# # def assign_rain_group(rain_c):\n",
    "# #     if rain_c <= 0:\n",
    "# #         return \"no\"\n",
    "# #     elif 0 < rain_c and rain_c < 3.0:\n",
    "# #         return \"weak\"\n",
    "# #     elif 3.0 <= rain_c and rain_c < 15:\n",
    "# #         return \"normal\"\n",
    "# #     elif 15 <= rain_c and rain_c < 30:\n",
    "# #         return \"strong\"\n",
    "# #     elif 30 <= rain_c:\n",
    "# #         return \"very_strong\"\n",
    "\n",
    "\n",
    "# print(new_data['rain_group'].value_counts())\n"
   ]
  },
  {
   "attachments": {},
   "cell_type": "markdown",
   "metadata": {},
   "source": [
    "### 5. 파생변수 생성 -  w-1,w-2,w-3,w-4 동일요일, 동일 시간대 주문수, 라이더 수 "
   ]
  },
  {
   "cell_type": "code",
   "execution_count": 17,
   "metadata": {},
   "outputs": [
    {
     "name": "stdout",
     "output_type": "stream",
     "text": [
      "reg_date            0\n",
      "hour_reg            0\n",
      "holiday_yn          0\n",
      "pick_rgn1_nm        0\n",
      "pick_rgn2_nm        0\n",
      "rider_cnt           0\n",
      "order_cnt           0\n",
      "day_of_reg          0\n",
      "rider_cnt_w_1       0\n",
      "order_cnt_w_1       0\n",
      "is_holiday          0\n",
      "date_2           2625\n",
      "hour             2625\n",
      "rain_c              0\n",
      "snow_c              0\n",
      "is_rain             0\n",
      "rider_cnt_w_2    5250\n",
      "dtype: int64\n"
     ]
    }
   ],
   "source": [
    "new_data = new_data.sort_values(['reg_date', 'pick_rgn2_nm'])\n",
    "new_data['rider_cnt_w_2'] = new_data.groupby(['pick_rgn2_nm', 'day_of_reg', 'hour_reg','is_rain'])['rider_cnt'].shift(1)\n",
    "# new_data['rider_cnt_w_3'] = new_data.groupby(['pick_rgn2_nm', 'day_of_reg', 'hour_reg','is_rain'])['rider_cnt'].shift(2)\n",
    "# new_data['rider_cnt_w_4'] = new_data.groupby(['pick_rgn2_nm', 'day_of_reg', 'hour_reg','is_rain'])['rider_cnt'].shift(3)\n",
    "\n",
    "print(new_data.isna().sum())"
   ]
  },
  {
   "cell_type": "code",
   "execution_count": 18,
   "metadata": {},
   "outputs": [
    {
     "name": "stdout",
     "output_type": "stream",
     "text": [
      "reg_date            0\n",
      "hour_reg            0\n",
      "holiday_yn          0\n",
      "pick_rgn1_nm        0\n",
      "pick_rgn2_nm        0\n",
      "rider_cnt           0\n",
      "order_cnt           0\n",
      "day_of_reg          0\n",
      "rider_cnt_w_1       0\n",
      "order_cnt_w_1       0\n",
      "is_holiday          0\n",
      "date_2           2625\n",
      "hour             2625\n",
      "rain_c              0\n",
      "snow_c              0\n",
      "is_rain             0\n",
      "rider_cnt_w_2       0\n",
      "dtype: int64\n"
     ]
    }
   ],
   "source": [
    "# 결측치 애우기 \n",
    "\n",
    "new_data = new_data.sort_values(by=['pick_rgn2_nm', 'day_of_reg', 'hour_reg'])\n",
    "\n",
    "#new_data['rider_cnt_w_1'] = new_data.groupby(['pick_rgn2_nm', 'day_of_reg', 'hour_reg'])['rider_cnt'].shift(1)\n",
    "new_data['rider_cnt_w_1'].fillna(new_data['rider_cnt'], inplace=True)\n",
    "\n",
    "#new_data['rider_cnt_w_2'] = new_data['rider_cnt_w_1']\n",
    "new_data['rider_cnt_w_2'].fillna(new_data['rider_cnt_w_1'], inplace=True)\n",
    "\n",
    "#new_data['rider_cnt_w_3'] = new_data['rider_cnt_w_2']\n",
    "#new_data['rider_cnt_w_3'].fillna(new_data['rider_cnt_w_2'], inplace=True)\n",
    "\n",
    "#new_data['rider_cnt_w_4'] = new_data['rider_cnt_w_3']\n",
    "# new_data['rider_cnt_w_4'].fillna(new_data['rider_cnt_w_3'], inplace=True)\n",
    "\n",
    "print(new_data.isna().sum())\n",
    "\n"
   ]
  },
  {
   "attachments": {},
   "cell_type": "markdown",
   "metadata": {},
   "source": [
    "### 6. 파생변수 생성 group_s "
   ]
  },
  {
   "cell_type": "code",
   "execution_count": 19,
   "metadata": {},
   "outputs": [],
   "source": [
    "# def group_assignment(row):\n",
    "#     if row['day_of_reg'] in ['월요일','화요일','수요일','목요일','금요일']:\n",
    "#         if row['holiday_yn'] == 0 and row['is_rain'] == 0:\n",
    "#             return 'A'\n",
    "#         elif row['holiday_yn'] == 0 and row['is_rain'] == 1:\n",
    "#             return 'B'\n",
    "#         elif row['holiday_yn'] == 1 and row['is_rain'] == 0:\n",
    "#             return 'C'\n",
    "#         elif row['holiday_yn'] == 1 and row['is_rain'] == 1:\n",
    "#             return 'D'\n",
    "#     elif row['day_of_reg'] in ['토요일','일요일']:\n",
    "#         if row['holiday_yn'] == 0 and row['is_rain'] == 0:\n",
    "#             return 'E'\n",
    "#         elif row['holiday_yn'] == 0 and row['is_rain'] == 1:\n",
    "#             return 'F'\n",
    " \n",
    "# new_data['group_s'] = new_data.apply(group_assignment, axis=1)\n",
    "# print(new_data['group_s'].value_counts())"
   ]
  },
  {
   "cell_type": "code",
   "execution_count": 20,
   "metadata": {},
   "outputs": [
    {
     "name": "stdout",
     "output_type": "stream",
     "text": [
      "(2250, 17)\n",
      "2023-06-14\n"
     ]
    }
   ],
   "source": [
    "tomorrow = (datetime.now() + timedelta(days=1)).date()\n",
    "\n",
    "new_data = new_data[new_data['reg_date'].apply(lambda x: x) >= tomorrow] # 내일날짜부터 예측되게끔. \n",
    "#new_data.to_csv('predict_new_data.csv', encoding='cp949', index=False)\n",
    "\n",
    "print(new_data.shape)  # (2,250, num_columns)\n",
    "#print(new_data.info())\n",
    "print(new_data['reg_date'].min()) #2023-06-14"
   ]
  },
  {
   "attachments": {},
   "cell_type": "markdown",
   "metadata": {},
   "source": [
    "### 7. 데이터 전처리 "
   ]
  },
  {
   "cell_type": "code",
   "execution_count": 21,
   "metadata": {},
   "outputs": [
    {
     "name": "stdout",
     "output_type": "stream",
     "text": [
      "reg_date           object\n",
      "hour_reg         category\n",
      "holiday_yn         object\n",
      "pick_rgn1_nm       object\n",
      "pick_rgn2_nm       object\n",
      "rider_cnt           int64\n",
      "order_cnt           int64\n",
      "day_of_reg         object\n",
      "rider_cnt_w_1       int64\n",
      "order_cnt_w_1       int64\n",
      "is_holiday       category\n",
      "date_2             object\n",
      "hour              float64\n",
      "rain_c            float64\n",
      "snow_c            float64\n",
      "is_rain             int64\n",
      "rider_cnt_w_2     float64\n",
      "dtype: object\n"
     ]
    }
   ],
   "source": [
    "# category  - pick_rgn2_nm, hour_reg, day_of_reg, is_rain, month, week, is_holiday\n",
    "for col in ['pick_rgn2_nm', 'hour_reg', 'day_of_reg', 'is_holiday'] : \n",
    "   new_data.loc[:, col] = new_data.loc[:, col].astype('category')\n",
    "\n",
    "print(new_data.dtypes)"
   ]
  },
  {
   "cell_type": "code",
   "execution_count": 22,
   "metadata": {},
   "outputs": [
    {
     "name": "stdout",
     "output_type": "stream",
     "text": [
      "Index(['pick_rgn2_nm_강남구', 'pick_rgn2_nm_강동구', 'pick_rgn2_nm_강북구',\n",
      "       'pick_rgn2_nm_강서구', 'pick_rgn2_nm_관악구', 'pick_rgn2_nm_광진구',\n",
      "       'pick_rgn2_nm_구로구', 'pick_rgn2_nm_금천구', 'pick_rgn2_nm_노원구',\n",
      "       'pick_rgn2_nm_도봉구', 'pick_rgn2_nm_동대문구', 'pick_rgn2_nm_동작구',\n",
      "       'pick_rgn2_nm_마포구', 'pick_rgn2_nm_서대문구', 'pick_rgn2_nm_서초구',\n",
      "       'pick_rgn2_nm_성동구', 'pick_rgn2_nm_성북구', 'pick_rgn2_nm_송파구',\n",
      "       'pick_rgn2_nm_양천구', 'pick_rgn2_nm_영등포구', 'pick_rgn2_nm_용산구',\n",
      "       'pick_rgn2_nm_은평구', 'pick_rgn2_nm_종로구', 'pick_rgn2_nm_중구',\n",
      "       'pick_rgn2_nm_중랑구', 'hour_reg_9', 'hour_reg_10', 'hour_reg_11',\n",
      "       'hour_reg_12', 'hour_reg_13', 'hour_reg_14', 'hour_reg_15',\n",
      "       'hour_reg_16', 'hour_reg_17', 'hour_reg_18', 'hour_reg_19',\n",
      "       'hour_reg_20', 'hour_reg_21', 'hour_reg_22', 'hour_reg_23',\n",
      "       'day_of_reg_금요일', 'day_of_reg_목요일', 'day_of_reg_수요일', 'day_of_reg_월요일',\n",
      "       'day_of_reg_일요일', 'day_of_reg_토요일', 'is_holiday_0', 'is_holiday_1',\n",
      "       'rider_cnt', 'order_cnt', 'rider_cnt_w_1', 'order_cnt_w_1', 'is_rain',\n",
      "       'rider_cnt_w_2'],\n",
      "      dtype='object')\n"
     ]
    }
   ],
   "source": [
    "# one-hot-encoding\n",
    "\n",
    "new_data = new_data.drop(['holiday_yn','pick_rgn1_nm','date_2', 'hour','rain_c', 'snow_c'], axis=1)\n",
    "\n",
    "var = ['pick_rgn2_nm', 'hour_reg','day_of_reg','is_holiday']\n",
    "\n",
    "new_data = new_data.sort_values(by=[\"reg_date\", \"pick_rgn2_nm\", \"hour_reg\",\"day_of_reg\"])\n",
    "encode_data = new_data.sort_values(by=[\"reg_date\", \"pick_rgn2_nm\", \"hour_reg\",\"day_of_reg\"])\n",
    "\n",
    "X_test = encode_data.drop(columns = ['reg_date'])\n",
    "\n",
    "encoder = OneHotEncoder()\n",
    "onehot = pd.DataFrame(encoder.fit_transform(encode_data[var]).toarray(), columns=encoder.get_feature_names_out(var), index = encode_data.index)\n",
    "X_test = pd.concat([onehot, X_test.drop(columns=var)], axis=1)\n",
    "\n",
    "print(X_test.columns)"
   ]
  },
  {
   "attachments": {},
   "cell_type": "markdown",
   "metadata": {},
   "source": [
    "### 8. 존재하지 않는 변수 추가하기"
   ]
  },
  {
   "cell_type": "code",
   "execution_count": 23,
   "metadata": {},
   "outputs": [
    {
     "name": "stdout",
     "output_type": "stream",
     "text": [
      "Index(['day_of_reg_금요일', 'day_of_reg_목요일', 'day_of_reg_수요일', 'day_of_reg_월요일',\n",
      "       'day_of_reg_일요일', 'day_of_reg_토요일', 'day_of_reg_화요일',\n",
      "       'pick_rgn2_nm_강남구', 'pick_rgn2_nm_강동구', 'pick_rgn2_nm_강북구',\n",
      "       'pick_rgn2_nm_강서구', 'pick_rgn2_nm_관악구', 'pick_rgn2_nm_광진구',\n",
      "       'pick_rgn2_nm_구로구', 'pick_rgn2_nm_금천구', 'pick_rgn2_nm_노원구',\n",
      "       'pick_rgn2_nm_도봉구', 'pick_rgn2_nm_동대문구', 'pick_rgn2_nm_동작구',\n",
      "       'pick_rgn2_nm_마포구', 'pick_rgn2_nm_서대문구', 'pick_rgn2_nm_서초구',\n",
      "       'pick_rgn2_nm_성동구', 'pick_rgn2_nm_성북구', 'pick_rgn2_nm_송파구',\n",
      "       'pick_rgn2_nm_양천구', 'pick_rgn2_nm_영등포구', 'pick_rgn2_nm_용산구',\n",
      "       'pick_rgn2_nm_은평구', 'pick_rgn2_nm_종로구', 'pick_rgn2_nm_중구',\n",
      "       'pick_rgn2_nm_중랑구', 'hour_reg_9', 'hour_reg_10', 'hour_reg_11',\n",
      "       'hour_reg_12', 'hour_reg_13', 'hour_reg_14', 'hour_reg_15',\n",
      "       'hour_reg_16', 'hour_reg_17', 'hour_reg_18', 'hour_reg_19',\n",
      "       'hour_reg_20', 'hour_reg_21', 'hour_reg_22', 'hour_reg_23',\n",
      "       'is_holiday_0', 'is_holiday_1', 'is_rain_0', 'is_rain_1',\n",
      "       'rider_cnt_w_1', 'rider_cnt_w_2', 'rider_cnt_w_3', 'rider_cnt_w_4',\n",
      "       'order_cnt_w_1'],\n",
      "      dtype='object')\n"
     ]
    }
   ],
   "source": [
    "desired_order = ['day_of_reg_금요일', 'day_of_reg_목요일', 'day_of_reg_수요일', 'day_of_reg_월요일',\n",
    "       'day_of_reg_일요일', 'day_of_reg_토요일', 'day_of_reg_화요일',\n",
    "       'pick_rgn2_nm_강남구', 'pick_rgn2_nm_강동구', 'pick_rgn2_nm_강북구',\n",
    "       'pick_rgn2_nm_강서구', 'pick_rgn2_nm_관악구', 'pick_rgn2_nm_광진구',\n",
    "       'pick_rgn2_nm_구로구', 'pick_rgn2_nm_금천구', 'pick_rgn2_nm_노원구',\n",
    "       'pick_rgn2_nm_도봉구', 'pick_rgn2_nm_동대문구', 'pick_rgn2_nm_동작구',\n",
    "       'pick_rgn2_nm_마포구', 'pick_rgn2_nm_서대문구', 'pick_rgn2_nm_서초구',\n",
    "       'pick_rgn2_nm_성동구', 'pick_rgn2_nm_성북구', 'pick_rgn2_nm_송파구',\n",
    "       'pick_rgn2_nm_양천구', 'pick_rgn2_nm_영등포구', 'pick_rgn2_nm_용산구',\n",
    "       'pick_rgn2_nm_은평구', 'pick_rgn2_nm_종로구', 'pick_rgn2_nm_중구',\n",
    "       'pick_rgn2_nm_중랑구', 'hour_reg_9', 'hour_reg_10', 'hour_reg_11',\n",
    "       'hour_reg_12', 'hour_reg_13', 'hour_reg_14', 'hour_reg_15',\n",
    "       'hour_reg_16', 'hour_reg_17', 'hour_reg_18', 'hour_reg_19',\n",
    "       'hour_reg_20', 'hour_reg_21', 'hour_reg_22', 'hour_reg_23',\n",
    "       'is_holiday_0', 'is_holiday_1', 'is_rain_0', 'is_rain_1',\n",
    "       'rider_cnt_w_1', 'rider_cnt_w_2', 'rider_cnt_w_3', 'rider_cnt_w_4',\n",
    "       'order_cnt_w_1']\n",
    "\n",
    "new_variables = [col for col in desired_order if col not in X_test.columns]\n",
    "\n",
    "# 새로운 변수를 포함한 빈 DataFrame 생성\n",
    "encode_data = pd.DataFrame(0, columns=new_variables, index= X_test.index)\n",
    "\n",
    "# 기존 x_test DataFrame과 새로운 변수를 포함한 DataFrame을 병합\n",
    "X_test = pd.concat([X_test, encode_data], axis=1)\n",
    "X_test = X_test[desired_order]\n",
    "\n",
    "# 결과 확인\n",
    "#print(X_test.head())\n",
    "print(X_test.columns)"
   ]
  },
  {
   "attachments": {},
   "cell_type": "markdown",
   "metadata": {},
   "source": [
    "### 9. train, test set split "
   ]
  },
  {
   "cell_type": "code",
   "execution_count": 24,
   "metadata": {},
   "outputs": [
    {
     "name": "stdout",
     "output_type": "stream",
     "text": [
      "(2250, 56)\n"
     ]
    },
    {
     "data": {
      "text/plain": [
       "day_of_reg_금요일       0\n",
       "day_of_reg_목요일       0\n",
       "day_of_reg_수요일       0\n",
       "day_of_reg_월요일       0\n",
       "day_of_reg_일요일       0\n",
       "day_of_reg_토요일       0\n",
       "day_of_reg_화요일       0\n",
       "pick_rgn2_nm_강남구     0\n",
       "pick_rgn2_nm_강동구     0\n",
       "pick_rgn2_nm_강북구     0\n",
       "pick_rgn2_nm_강서구     0\n",
       "pick_rgn2_nm_관악구     0\n",
       "pick_rgn2_nm_광진구     0\n",
       "pick_rgn2_nm_구로구     0\n",
       "pick_rgn2_nm_금천구     0\n",
       "pick_rgn2_nm_노원구     0\n",
       "pick_rgn2_nm_도봉구     0\n",
       "pick_rgn2_nm_동대문구    0\n",
       "pick_rgn2_nm_동작구     0\n",
       "pick_rgn2_nm_마포구     0\n",
       "pick_rgn2_nm_서대문구    0\n",
       "pick_rgn2_nm_서초구     0\n",
       "pick_rgn2_nm_성동구     0\n",
       "pick_rgn2_nm_성북구     0\n",
       "pick_rgn2_nm_송파구     0\n",
       "pick_rgn2_nm_양천구     0\n",
       "pick_rgn2_nm_영등포구    0\n",
       "pick_rgn2_nm_용산구     0\n",
       "pick_rgn2_nm_은평구     0\n",
       "pick_rgn2_nm_종로구     0\n",
       "pick_rgn2_nm_중구      0\n",
       "pick_rgn2_nm_중랑구     0\n",
       "hour_reg_9           0\n",
       "hour_reg_10          0\n",
       "hour_reg_11          0\n",
       "hour_reg_12          0\n",
       "hour_reg_13          0\n",
       "hour_reg_14          0\n",
       "hour_reg_15          0\n",
       "hour_reg_16          0\n",
       "hour_reg_17          0\n",
       "hour_reg_18          0\n",
       "hour_reg_19          0\n",
       "hour_reg_20          0\n",
       "hour_reg_21          0\n",
       "hour_reg_22          0\n",
       "hour_reg_23          0\n",
       "is_holiday_0         0\n",
       "is_holiday_1         0\n",
       "is_rain_0            0\n",
       "is_rain_1            0\n",
       "rider_cnt_w_1        0\n",
       "rider_cnt_w_2        0\n",
       "rider_cnt_w_3        0\n",
       "rider_cnt_w_4        0\n",
       "order_cnt_w_1        0\n",
       "dtype: int64"
      ]
     },
     "execution_count": 24,
     "metadata": {},
     "output_type": "execute_result"
    }
   ],
   "source": [
    "print(X_test.shape) \n",
    "X_test.isna().sum()"
   ]
  },
  {
   "attachments": {},
   "cell_type": "markdown",
   "metadata": {},
   "source": [
    "### 10. model 적용 "
   ]
  },
  {
   "cell_type": "code",
   "execution_count": 25,
   "metadata": {},
   "outputs": [],
   "source": [
    "def get_predict(X_test):\n",
    "\n",
    "    Lasso_model = joblib.load('model_Lasso.joblib')\n",
    "    LGBM_model = joblib.load('model_LGBMRegressor.joblib')\n",
    "    RF_model = joblib.load('model_RandomForestRegressor.joblib')\n",
    "\n",
    "    result_df = pd.DataFrame({'reg_date': new_data[\"reg_date\"],\n",
    "                              'pick_rgn2_nm': new_data[\"pick_rgn2_nm\"], 'hour_reg': new_data[\"hour_reg\"],\n",
    "                              'day_of_reg': new_data[\"day_of_reg\"], 'is_rain': new_data[\"is_rain\"],\n",
    "                              'is_holiday': new_data[\"is_holiday\"]})\n",
    "\n",
    "    y_pred_Lasso = Lasso_model.predict(X_test)\n",
    "    y_pred_LGBM = LGBM_model.predict(X_test)\n",
    "    y_pred_RF = RF_model.predict(X_test)\n",
    "    \n",
    "    result_df['y_pred_Lasso'] = y_pred_Lasso\n",
    "    result_df['y_pred_LGBM'] = y_pred_LGBM\n",
    "    result_df['y_pred_RF'] = y_pred_RF\n",
    "    \n",
    "    result_df['y_pred_avg_three'] = (result_df['y_pred_Lasso'] + result_df['y_pred_LGBM'] + result_df['y_pred_RF']) / 3 #3개 모델 예측값 \n",
    "    result_df['y_pred_avg_lgbm_rf'] = (result_df['y_pred_LGBM'] + result_df['y_pred_RF']) / 2\n",
    "    result_df['y_pred_avg_rf_la'] = (result_df['y_pred_RF'] + result_df['y_pred_Lasso']) / 2\n",
    "\n",
    "    result_df.to_csv('prediction_results_latest6days_rain_O.csv', index=False, encoding=\"cp949\")\n",
    "\n",
    "\n",
    "get_predict(X_test)"
   ]
  }
 ],
 "metadata": {
  "kernelspec": {
   "display_name": "Python 3",
   "language": "python",
   "name": "python3"
  },
  "language_info": {
   "codemirror_mode": {
    "name": "ipython",
    "version": 3
   },
   "file_extension": ".py",
   "mimetype": "text/x-python",
   "name": "python",
   "nbconvert_exporter": "python",
   "pygments_lexer": "ipython3",
   "version": "3.9.6"
  },
  "orig_nbformat": 4
 },
 "nbformat": 4,
 "nbformat_minor": 2
}
