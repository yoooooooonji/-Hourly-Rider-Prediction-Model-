{
 "cells": [
  {
   "cell_type": "code",
   "execution_count": 1,
   "metadata": {},
   "outputs": [],
   "source": [
    "from urllib.request import urlopen\n",
    "from urllib.parse import urlencode, unquote, quote_plus\n",
    "import urllib\n",
    "import requests\n",
    "import json\n",
    "import pandas as pd\n",
    "from datetime import datetime, timedelta\n",
    "import warnings\n",
    "import xmltodict \n",
    "warnings.filterwarnings('ignore')"
   ]
  },
  {
   "cell_type": "code",
   "execution_count": 3,
   "metadata": {},
   "outputs": [
    {
     "ename": "KeyError",
     "evalue": "'body'",
     "output_type": "error",
     "traceback": [
      "\u001b[0;31m---------------------------------------------------------------------------\u001b[0m",
      "\u001b[0;31mKeyError\u001b[0m                                  Traceback (most recent call last)",
      "Cell \u001b[0;32mIn[3], line 11\u001b[0m\n\u001b[1;32m      8\u001b[0m data \u001b[39m=\u001b[39m json\u001b[39m.\u001b[39mloads(answer)\n\u001b[1;32m      9\u001b[0m rain \u001b[39m=\u001b[39m \u001b[39mdict\u001b[39m()\n\u001b[0;32m---> 11\u001b[0m \u001b[39mfor\u001b[39;00m item \u001b[39min\u001b[39;00m data[\u001b[39m\"\u001b[39;49m\u001b[39mresponse\u001b[39;49m\u001b[39m\"\u001b[39;49m][\u001b[39m\"\u001b[39;49m\u001b[39mbody\u001b[39;49m\u001b[39m\"\u001b[39;49m][\u001b[39m\"\u001b[39m\u001b[39mitems\u001b[39m\u001b[39m\"\u001b[39m][\u001b[39m\"\u001b[39m\u001b[39mitem\u001b[39m\u001b[39m\"\u001b[39m]:\n\u001b[1;32m     12\u001b[0m     \u001b[39mif\u001b[39;00m item[\u001b[39m\"\u001b[39m\u001b[39mcategory\u001b[39m\u001b[39m\"\u001b[39m] \u001b[39m==\u001b[39m \u001b[39m\"\u001b[39m\u001b[39mPTY\u001b[39m\u001b[39m\"\u001b[39m:\n\u001b[1;32m     13\u001b[0m         rain[item[\u001b[39m\"\u001b[39m\u001b[39mfcstTime\u001b[39m\u001b[39m\"\u001b[39m]] \u001b[39m=\u001b[39m item[\u001b[39m\"\u001b[39m\u001b[39mfcstValue\u001b[39m\u001b[39m\"\u001b[39m]\n",
      "\u001b[0;31mKeyError\u001b[0m: 'body'"
     ]
    }
   ],
   "source": [
    "# 초단기예보 : base_time ~ 6시간 이내 \n",
    "url = \"http://apis.data.go.kr/1360000/VilageFcstInfoService_2.0/getUltraSrtFcst\" + \\\n",
    "    \"?serviceKey=uw7Y8kgQ1Fqg6z9GjnSN8jJ8S%2FuV%2Bl%2B8PnHC4By9xwtYF5ZAExmO2Ip1mJcQC3HDTDcKmIxB9rBBuI0gDaIYVA%3D%3D\" + \\\n",
    "    \"&numOfRows=100&pageNo=1\" + \\\n",
    "    \"&base_date=20230523&base_time=1130&nx=61&ny=125&dataType=JSON\"\n",
    "    \n",
    "answer = urlopen(url).read()\n",
    "data = json.loads(answer)\n",
    "rain = dict()\n",
    "\n",
    "for item in data[\"response\"][\"body\"][\"items\"][\"item\"]:\n",
    "    if item[\"category\"] == \"PTY\":\n",
    "        rain[item[\"fcstTime\"]] = item[\"fcstValue\"]\n",
    "for k, v in rain.items():\n",
    "    print(\"{}시에 강수형태 {}\".format(k, v))\n",
    "    \n",
    "print(rain)"
   ]
  },
  {
   "cell_type": "code",
   "execution_count": 4,
   "metadata": {},
   "outputs": [
    {
     "name": "stdout",
     "output_type": "stream",
     "text": [
      "{'response': {'header': {'resultCode': '10', 'resultMsg': '최근 1일 간의 자료만 제공합니다.'}}}\n"
     ]
    }
   ],
   "source": [
    "# 매일 오전 6시 - 그 당일의 예보 (일단위)\n",
    "url = \"http://apis.data.go.kr/1360000/VilageFcstInfoService_2.0/getUltraSrtNcst\" + \\\n",
    "    \"?serviceKey=uw7Y8kgQ1Fqg6z9GjnSN8jJ8S%2FuV%2Bl%2B8PnHC4By9xwtYF5ZAExmO2Ip1mJcQC3HDTDcKmIxB9rBBuI0gDaIYVA%3D%3D\" + \\\n",
    "    \"&numOfRows=1000&pageNo=1\" + \\\n",
    "    \"&base_date=20230523&base_time=0600&nx=55&ny=127&dataType=JSON\"\n",
    "    \n",
    "answer = urlopen(url).read()\n",
    "data = json.loads(answer)\n",
    "print(data)\n",
    "\n",
    "# for item in data[\"response\"][\"body\"][\"items\"][\"item\"]:\n",
    "#     if item[\"category\"] == \"PTY\":\n",
    "#         rain[item[\"fcstTime\"]] = item[\"fcstValue\"]\n",
    "# for k, v in rain.items():\n",
    "#     print(\"{}시에 강수형태 {}\".format(k, v))\n",
    "    \n",
    "# print(rain)"
   ]
  },
  {
   "cell_type": "code",
   "execution_count": 5,
   "metadata": {},
   "outputs": [
    {
     "name": "stdout",
     "output_type": "stream",
     "text": [
      "{'response': {'header': {'resultCode': '99', 'resultMsg': '최대 조회 기간은 오늘 기준으로 1일 전까지입니다.'}}}\n"
     ]
    }
   ],
   "source": [
    "# 중기육상예보 \n",
    "url = \"https://apis.data.go.kr/1360000/MidFcstInfoService/getMidLandFcst\" + \\\n",
    "    \"?serviceKey=uw7Y8kgQ1Fqg6z9GjnSN8jJ8S%2FuV%2Bl%2B8PnHC4By9xwtYF5ZAExmO2Ip1mJcQC3HDTDcKmIxB9rBBuI0gDaIYVA%3D%3D\" + \\\n",
    "    \"&numOfRows=1000&pageNo=1\" + \\\n",
    "    \"&regId=11B00000&tmFc=202305230600&dataType=JSON\"\n",
    "    \n",
    "answer = urlopen(url).read()\n",
    "data = json.loads(answer)\n",
    "print(data)\n"
   ]
  },
  {
   "cell_type": "code",
   "execution_count": null,
   "metadata": {},
   "outputs": [],
   "source": []
  }
 ],
 "metadata": {
  "kernelspec": {
   "display_name": "Python 3",
   "language": "python",
   "name": "python3"
  },
  "language_info": {
   "codemirror_mode": {
    "name": "ipython",
    "version": 3
   },
   "file_extension": ".py",
   "mimetype": "text/x-python",
   "name": "python",
   "nbconvert_exporter": "python",
   "pygments_lexer": "ipython3",
   "version": "3.9.6"
  },
  "orig_nbformat": 4
 },
 "nbformat": 4,
 "nbformat_minor": 2
}
