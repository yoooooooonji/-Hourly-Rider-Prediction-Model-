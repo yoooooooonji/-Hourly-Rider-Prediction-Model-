{
 "cells": [
  {
   "cell_type": "code",
   "execution_count": null,
   "metadata": {},
   "outputs": [],
   "source": [
    "import pandas as pd\n",
    "import numpy as np\n",
    "from statsmodels.tsa.statespace.sarimax import SARIMAX\n",
    "from prophet import Prophet\n",
    "from sklearn.metrics import mean_absolute_error, mean_squared_error"
   ]
  },
  {
   "cell_type": "code",
   "execution_count": null,
   "metadata": {},
   "outputs": [],
   "source": [
    "# 1. 데이터 불러오기 및 전처리\n",
    "data = pd.read_csv(\"final_data.csv\", encoding = \"cp949\")\n",
    "print(data.head())\n",
    "\n",
    "data[\"datetime\"] = pd.to_datetime(data[\"datetime\"])\n",
    "data[\"reg_date\"] = pd.to_datetime(data[\"reg_date\"])\n",
    "\n",
    "data = data.sort_values(by=\"datetime\")"
   ]
  },
  {
   "cell_type": "code",
   "execution_count": null,
   "metadata": {},
   "outputs": [],
   "source": [
    "data = data.drop(columns = ['rider_cnt', 'order_cnt','temp_c','rain_c', 'snow_c', 'q1', 'q3', 'IQR1.5', 'outlier','rider_cnt_w_1', 'rider_cnt_w_2', \n",
    "                            'rider_cnt_w_3', 'rider_cnt_w_4', 'order_cnt_w_1',\n",
    "                            'order_cnt_w_2', 'order_cnt_w_3', 'order_cnt_w_4'])\n",
    "print(data.head())"
   ]
  },
  {
   "cell_type": "code",
   "execution_count": null,
   "metadata": {},
   "outputs": [],
   "source": [
    "# category  - pick_rgn2_nm, hour_reg, day_of_reg, is_rain, month, week, is_holiday\n",
    "for col in ['pick_rgn2_nm', 'hour_reg', 'day_of_reg', 'is_rain', 'month', 'week', 'is_holiday'] : \n",
    "    data[col] = data[col].astype('category')\n",
    "\n",
    "print(data.dtypes)"
   ]
  },
  {
   "cell_type": "code",
   "execution_count": null,
   "metadata": {},
   "outputs": [],
   "source": [
    "# 4. 성능 비교 (MAE, RMSE)\n",
    "# actual = data[\"rider_cnt_2\"].tail(24*7)\n",
    "\n",
    "# arima_predicted = arima_forecast.predicted_mean[-(24*7):]\n",
    "# prophet_predicted = prophet_forecast[\"yhat\"].tail(24*7)\n",
    "\n",
    "# mae_arima = mean_absolute_error(actual, arima_predicted)\n",
    "# mae_prophet = mean_absolute_error(actual, prophet_predicted)\n",
    "\n",
    "# rmse_arima = np.sqrt(mean_squared_error(actual, arima_predicted))\n",
    "# rmse_prophet = np.sqrt(mean_squared_error(actual, prophet_predicted))\n",
    "\n",
    "# print(f\"ARIMA - MAE: {mae_arima}  RMSE: {rmse_arima}\")\n",
    "# print(f\"PROPHET - MAE: {mae_prophet} RMSE: {rmse_prophet}\")"
   ]
  },
  {
   "cell_type": "code",
   "execution_count": null,
   "metadata": {},
   "outputs": [],
   "source": [
    "# 예측 결과를 저장할 빈 딕셔너리\n",
    "arima_results = {}\n",
    "prophet_results = {}\n",
    "\n",
    "# 각 지역별로 ARIMA 및 Prophet 모델 훈련 및 예측 수행\n",
    "locations = data[\"pick_rgn2_nm\"].unique()\n",
    "for location in locations:\n",
    "    data_location = data[data[\"pick_rgn2_nm\"] == location].copy()\n",
    "    \n",
    "    # train, test 데이터 분리\n",
    "    train_data = data_location[data_location[\"datetime\"] <= \"2022-12-31\"]\n",
    "    test_data = data_location[data_location[\"datetime\"] >= \"2023-01-01\"]\n",
    "    \n",
    "    # ARIMA 모델 훈련 및 예측\n",
    "    ts_train_data = train_data.set_index(\"datetime\")[\"rider_cnt_2\"]\n",
    "    arima_model_location = SARIMAX(ts_train_data, order=(1, 1, 1), seasonal_order=(1, 1, 1, 24)).fit()\n",
    "    arima_forecast_location = arima_model_location.get_forecast(steps=test_data.shape[0], alpha=0.05)\n",
    "    arima_results[location] = arima_forecast_location.summary_frame()[\"mean\"].values\n",
    "    \n",
    "    # Prophet 모델 훈련 및 예측\n",
    "    prophet_data_location = train_data[[\"datetime\", \"rider_cnt_2\"]].copy()\n",
    "    prophet_data_location.columns = [\"ds\", \"y\"]\n",
    "    prophet_model_location = Prophet()\n",
    "    prophet_model_location.fit(prophet_data_location)\n",
    "    future_location = prophet_model_location.make_future_dataframe(periods=test_data.shape[0], freq=\"H\")\n",
    "    prophet_forecast_location = prophet_model_location.predict(future_location)\n",
    "    prophet_results[location] = prophet_forecast_location.iloc[-test_data.shape[0]:][\"yhat\"].values\n",
    "\n",
    "# 예측 결과와 actual 값을 포함한 데이터프레임 생성\n",
    "result = pd.DataFrame()\n",
    "for location in locations:\n",
    "    test_data_location = data[data[\"pick_rgn2_nm\"] == location].copy()\n",
    "    test_data_location = test_data_location[test_data_location[\"datetime\"] >= \"2023-01-01\"]\n",
    "    test_data_location.reset_index(drop=True, inplace=True)\n",
    "    result_location = pd.DataFrame({\"datetime\": test_data_location[\"datetime\"],\n",
    "                                     \"actual\": test_data_location[\"rider_cnt_2\"],\n",
    "                                     \"arima_pred\": arima_results[location],\n",
    "                                     \"prophet_pred\": prophet_results[location]})\n",
    "    result_location[\"location\"] = location\n",
    "    result = pd.concat([result, result_location], axis=0)\n",
    "\n",
    "\n",
    "# 결과 저장\n",
    "results = pd.concat([test_data[[\"datetime\", \"pick_rgn2_nm\", \"rider_cnt\"]], arima_forecast_location.summary_frame()[\"mean\"], prophet_forecast_location.iloc[-test_data.shape[0]:][\"yhat\"]], axis=1)\n",
    "\n",
    "# csv 파일로 추출\n",
    "results.to_csv(\"result_total.csv\", index=False)\n",
    "\n"
   ]
  },
  {
   "cell_type": "code",
   "execution_count": null,
   "metadata": {},
   "outputs": [],
   "source": []
  }
 ],
 "metadata": {
  "kernelspec": {
   "display_name": "Python 3",
   "language": "python",
   "name": "python3"
  },
  "language_info": {
   "codemirror_mode": {
    "name": "ipython",
    "version": 3
   },
   "file_extension": ".py",
   "mimetype": "text/x-python",
   "name": "python",
   "nbconvert_exporter": "python",
   "pygments_lexer": "ipython3",
   "version": "3.9.6"
  },
  "orig_nbformat": 4
 },
 "nbformat": 4,
 "nbformat_minor": 2
}
