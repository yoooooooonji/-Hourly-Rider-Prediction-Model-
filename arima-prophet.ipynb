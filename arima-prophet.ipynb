{
 "cells": [
  {
   "cell_type": "code",
   "execution_count": null,
   "metadata": {},
   "outputs": [],
   "source": [
    "import pandas as pd\n",
    "import numpy as np\n",
    "from statsmodels.tsa.statespace.sarimax import SARIMAX\n",
    "from fbprophet import Prophet\n",
    "from sklearn.metrics import mean_absolute_error, mean_squared_error"
   ]
  },
  {
   "cell_type": "code",
   "execution_count": null,
   "metadata": {},
   "outputs": [],
   "source": [
    "# 1. 데이터 불러오기 및 전처리\n",
    "data = pd.read_csv(\"your_data_file.csv\")\n",
    "data[\"datetime\"] = pd.to_datetime(data[\"datetime\"])\n",
    "data = data.sort_values(by=\"datetime\")"
   ]
  },
  {
   "cell_type": "code",
   "execution_count": null,
   "metadata": {},
   "outputs": [],
   "source": [
    "# 2. ARIMA 모델 훈련 및 예측\n",
    "ts_data = data[\"visitors\"]\n",
    "ts_data.index = pd.DatetimeIndex(data[\"datetime\"])\n",
    "\n",
    "arima_model = SARIMAX(ts_data, order=(1, 1, 1), seasonal_order=(1, 1, 1, 24)).fit()\n",
    "arima_forecast = arima_model.get_forecast(steps=24*7)\n",
    "\n",
    "\n",
    "# 2. ARIMA 모델 훈련 및 예측\n",
    "ts_data = data[\"visitors\"]\n",
    "ts_data.index = pd.DatetimeIndex(data[\"datetime\"])\n",
    "\n",
    "arima_model = SARIMAX(ts_data, order=(1, 1, 1), seasonal_order=(1, 1, 1, 24), exog=data[\"event\"]).fit()\n",
    "arima_forecast = arima_model.get_forecast(steps=24*7, exog=data[\"event\"].tail(24*7))"
   ]
  },
  {
   "cell_type": "code",
   "execution_count": null,
   "metadata": {},
   "outputs": [],
   "source": [
    "# 3. PROPHET 모델 훈련 및 예측\n",
    "prophet_data = data[[\"datetime\", \"visitors\"]]\n",
    "prophet_data.columns = [\"ds\", \"y\"]\n",
    "\n",
    "prophet_model = Prophet()\n",
    "prophet_model.fit(prophet_data)\n",
    "\n",
    "future = prophet_model.make_future_dataframe(periods=24*7, freq=\"H\")\n",
    "prophet_forecast = prophet_model.predict(future)\n",
    "\n",
    "# 3. PROPHET 모델 훈련 및 예측\n",
    "prophet_data = data[[\"datetime\", \"visitors\", \"event\"]]\n",
    "prophet_data.columns = [\"ds\", \"y\", \"event\"]\n",
    "\n",
    "holidays = pd.DataFrame({\n",
    "    \"holiday\": \"event\",\n",
    "    \"ds\": prophet_data[prophet_data[\"event\"] == 1][\"ds\"],\n",
    "    \"lower_window\": 0,\n",
    "    \"upper_window\": 1\n",
    "})\n",
    "\n",
    "prophet_model = Prophet(holidays=holidays)\n",
    "prophet_model.fit(prophet_data.drop(columns=[\"event\"]))\n",
    "\n",
    "future = prophet_model.make_future_dataframe(periods=24*7, freq=\"H\")\n",
    "prophet_forecast = prophet_model.predict(future)"
   ]
  },
  {
   "cell_type": "code",
   "execution_count": null,
   "metadata": {},
   "outputs": [],
   "source": [
    "# 4. 성능 비교 (MAE, RMSE)\n",
    "actual = data[\"visitors\"].tail(24*7)\n",
    "\n",
    "arima_predicted = arima_forecast.predicted_mean[-(24*7):]\n",
    "prophet_predicted = prophet_forecast[\"yhat\"].tail(24*7)\n",
    "\n",
    "mae_arima = mean_absolute_error(actual, arima_predicted)\n",
    "mae_prophet = mean_absolute_error(actual, prophet_predicted)\n",
    "\n",
    "rmse_arima = np.sqrt(mean_squared_error(actual, arima_predicted))\n",
    "rmse_prophet = np.sqrt(mean_squared_error(actual, prophet_predicted))\n",
    "\n",
    "print(f\"ARIMA - MAE: {mae_arima}  RMSE: {rmse_arima}\")\n",
    "print(f\"PROPHET - MAE: {mae_prophet} RMSE: {rmse_prophet}\")"
   ]
  },
  {
   "cell_type": "code",
   "execution_count": null,
   "metadata": {},
   "outputs": [],
   "source": [
    "# 지역별로 데이터를 분리\n",
    "locations = data[\"location\"].unique()\n",
    "\n",
    "# 지역별 모델 및 예측 결과를 저장할 빈 딕셔너리\n",
    "arima_results = {}\n",
    "prophet_results = {}\n",
    "\n",
    "# 각 지역별로 ARIMA 및 Prophet 모델 훈련 및 예측 수행\n",
    "for location in locations:\n",
    "    data_location = data[data[\"location\"] == location]\n",
    "    \n",
    "    # ARIMA 모델\n",
    "    ts_data_location = data_location[\"visitors\"]\n",
    "    ts_data_location.index = pd.DatetimeIndex(data_location[\"datetime\"])\n",
    "    arima_model_location = SARIMAX(ts_data_location, order=(1, 1, 1), seasonal_order=(1, 1, 1, 24)).fit()\n",
    "    arima_forecast_location = arima_model_location.get_forecast(steps=24*7)\n",
    "    arima_results[location] = arima_forecast_location.predicted_mean\n",
    "    \n",
    "    # Prophet 모델\n",
    "    prophet_data_location = data_location[[\"datetime\", \"visitors\"]]\n",
    "    prophet_data_location.columns = [\"ds\", \"y\"]\n",
    "    prophet_model_location = Prophet()\n",
    "    prophet_model_location.fit(prophet_data_location)\n",
    "    future_location = prophet_model_location.make_future_dataframe(periods=24*7, freq=\"H\")\n",
    "    prophet_forecast_location = prophet_model_location.predict(future_location)\n",
    "    prophet_results[location] = prophet_forecast_location[\"yhat\"].tail(24*7)\n"
   ]
  }
 ],
 "metadata": {
  "language_info": {
   "name": "python"
  },
  "orig_nbformat": 4
 },
 "nbformat": 4,
 "nbformat_minor": 2
}
