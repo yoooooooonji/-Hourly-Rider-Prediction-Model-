{
 "cells": [
  {
   "cell_type": "code",
   "execution_count": 6,
   "metadata": {},
   "outputs": [],
   "source": [
    "import pandas as pd\n",
    "import numpy as np\n",
    "from statsmodels.tsa.statespace.sarimax import SARIMAX\n",
    "from prophet import Prophet\n",
    "from sklearn.metrics import mean_absolute_error, mean_squared_error"
   ]
  },
  {
   "cell_type": "code",
   "execution_count": 24,
   "metadata": {},
   "outputs": [
    {
     "name": "stdout",
     "output_type": "stream",
     "text": [
      "              datetime pick_rgn2_nm  rider_cnt  order_cnt  hour_reg   \n",
      "0  2022-01-01 09:00:00          강남구        128        222         9  \\\n",
      "1  2022-01-01 10:00:00          강남구        252        403        10   \n",
      "2  2022-01-01 11:00:00          강남구        435        829        11   \n",
      "3  2022-01-01 12:00:00          강남구        489        909        12   \n",
      "4  2022-01-01 13:00:00          강남구        450        879        13   \n",
      "\n",
      "     reg_date day_of_reg  temp_c  rain_c  snow_c  is_rain  month  week   \n",
      "0  2022-01-01        토요일    -9.1     0.0     0.0        0      1     1  \\\n",
      "1  2022-01-01        토요일    -6.8     0.0     0.0        0      1     1   \n",
      "2  2022-01-01        토요일    -4.3     0.0     0.0        0      1     1   \n",
      "3  2022-01-01        토요일    -2.3     0.0     0.0        0      1     1   \n",
      "4  2022-01-01        토요일    -0.1     0.0     0.0        0      1     1   \n",
      "\n",
      "   is_holiday      q1      q3  IQR1.5  outlier  rider_cnt_2  \n",
      "0           1  205.00  226.75  32.625        1        215.5  \n",
      "1           1  386.00  437.50  77.250        1        419.5  \n",
      "2           1  678.50  727.50  73.500        1        704.0  \n",
      "3           1  715.75  764.50  73.125        1        749.5  \n",
      "4           1  613.00  668.00  82.500        1        646.0  \n"
     ]
    }
   ],
   "source": [
    "# 1. 데이터 불러오기 및 전처리\n",
    "data = pd.read_csv(\"final_data.csv\", encoding = \"cp949\")\n",
    "print(data.head())\n",
    "\n",
    "data[\"datetime\"] = pd.to_datetime(data[\"datetime\"])\n",
    "data[\"reg_date\"] = pd.to_datetime(data[\"reg_date\"])\n",
    "\n",
    "data = data.sort_values(by=\"datetime\")"
   ]
  },
  {
   "cell_type": "code",
   "execution_count": 25,
   "metadata": {},
   "outputs": [
    {
     "name": "stdout",
     "output_type": "stream",
     "text": [
      "                  datetime pick_rgn2_nm  order_cnt  hour_reg   reg_date   \n",
      "0      2022-01-01 09:00:00          강남구        222         9 2022-01-01  \\\n",
      "11631  2022-01-01 09:00:00          강동구         71         9 2022-01-01   \n",
      "127941 2022-01-01 09:00:00          동작구         38         9 2022-01-01   \n",
      "162834 2022-01-01 09:00:00          서초구         65         9 2022-01-01   \n",
      "58155  2022-01-01 09:00:00          광진구         86         9 2022-01-01   \n",
      "\n",
      "       day_of_reg  temp_c  is_rain  month  week  is_holiday  rider_cnt_2  \n",
      "0             토요일    -9.1        0      1     1           1        215.5  \n",
      "11631         토요일    -9.1        0      1     1           1         45.0  \n",
      "127941        토요일    -9.1        0      1     1           1         28.0  \n",
      "162834        토요일    -9.1        0      1     1           1         82.0  \n",
      "58155         토요일    -9.1        0      1     1           1         56.0  \n"
     ]
    }
   ],
   "source": [
    "data = data.drop(columns = ['rider_cnt', 'rain_c', 'snow_c', 'q1', 'q3', 'IQR1.5', 'outlier'])\n",
    "print(data.head())"
   ]
  },
  {
   "cell_type": "code",
   "execution_count": 27,
   "metadata": {},
   "outputs": [
    {
     "name": "stdout",
     "output_type": "stream",
     "text": [
      "datetime        datetime64[ns]\n",
      "pick_rgn2_nm          category\n",
      "order_cnt                int64\n",
      "hour_reg              category\n",
      "reg_date        datetime64[ns]\n",
      "day_of_reg            category\n",
      "temp_c                 float64\n",
      "is_rain               category\n",
      "month                 category\n",
      "week                  category\n",
      "is_holiday            category\n",
      "rider_cnt_2            float64\n",
      "dtype: object\n"
     ]
    }
   ],
   "source": [
    "# category  - pick_rgn2_nm, hour_reg, day_of_reg, is_rain, month, week, is_holiday\n",
    "\n",
    "for col in ['pick_rgn2_nm', 'hour_reg', 'day_of_reg', 'is_rain', 'month', 'week', 'is_holiday'] : \n",
    "    data[col] = data[col].astype('category')\n",
    "\n",
    "print(data.dtypes)"
   ]
  },
  {
   "cell_type": "code",
   "execution_count": null,
   "metadata": {},
   "outputs": [],
   "source": [
    "# 2. ARIMA 모델 훈련 및 예측\n",
    "# ts_data = data[\"rider_cnt_2\"]\n",
    "# ts_data.index = pd.DatetimeIndex(data[\"datetime\"])\n",
    "\n",
    "# arima_model = SARIMAX(ts_data, order=(1, 1, 1), seasonal_order=(1, 1, 1, 24)).fit()\n",
    "# arima_forecast = arima_model.get_forecast(steps=24*7)\n",
    "\n",
    "\n",
    "# 2. ARIMA 모델 훈련 및 예측\n",
    "ts_data = data[\"rider_cnt_2\"]\n",
    "ts_data.index = pd.DatetimeIndex(data[\"datetime\"])\n",
    "\n",
    "arima_model = SARIMAX(ts_data, order=(1, 1, 1), seasonal_order=(1, 1, 1, 24), exog = data[\"is_rain\"]).fit()\n",
    "arima_forecast = arima_model.get_forecast(steps=24*7, exog=data[\"is_rain\"].tail(24*7))"
   ]
  },
  {
   "cell_type": "code",
   "execution_count": null,
   "metadata": {},
   "outputs": [],
   "source": [
    "# 3. PROPHET 모델 훈련 및 예측\n",
    "# prophet_data = data[[\"datetime\", \"rider_cnt_2\"]]\n",
    "# prophet_data.columns = [\"ds\", \"y\"]\n",
    "\n",
    "# prophet_model = Prophet()\n",
    "# prophet_model.fit(prophet_data)\n",
    "\n",
    "# future = prophet_model.make_future_dataframe(periods=24*7, freq=\"H\")\n",
    "# prophet_forecast = prophet_model.predict(future)\n",
    "\n",
    "# 3. PROPHET 모델 훈련 및 예측\n",
    "prophet_data = data[[\"datetime\", \"rider_cnt_2\", \"is_rain\"]]\n",
    "prophet_data.columns = [\"ds\", \"y\", \"event\"]\n",
    "\n",
    "holidays = pd.DataFrame({\n",
    "    \"holiday\": \"event\",\n",
    "    \"ds\": prophet_data[prophet_data[\"event\"] == 1][\"ds\"],\n",
    "    \"lower_window\": 0,\n",
    "    \"upper_window\": 1\n",
    "})\n",
    "\n",
    "prophet_model = Prophet(holidays=holidays)\n",
    "prophet_model.fit(prophet_data.drop(columns=[\"event\"]))\n",
    "\n",
    "future = prophet_model.make_future_dataframe(periods=24*7, freq=\"H\")\n",
    "prophet_forecast = prophet_model.predict(future)"
   ]
  },
  {
   "cell_type": "code",
   "execution_count": null,
   "metadata": {},
   "outputs": [],
   "source": [
    "# 4. 성능 비교 (MAE, RMSE)\n",
    "actual = data[\"rider_cnt_2\"].tail(24*7)\n",
    "\n",
    "arima_predicted = arima_forecast.predicted_mean[-(24*7):]\n",
    "prophet_predicted = prophet_forecast[\"yhat\"].tail(24*7)\n",
    "\n",
    "mae_arima = mean_absolute_error(actual, arima_predicted)\n",
    "mae_prophet = mean_absolute_error(actual, prophet_predicted)\n",
    "\n",
    "rmse_arima = np.sqrt(mean_squared_error(actual, arima_predicted))\n",
    "rmse_prophet = np.sqrt(mean_squared_error(actual, prophet_predicted))\n",
    "\n",
    "print(f\"ARIMA - MAE: {mae_arima}  RMSE: {rmse_arima}\")\n",
    "print(f\"PROPHET - MAE: {mae_prophet} RMSE: {rmse_prophet}\")"
   ]
  },
  {
   "cell_type": "code",
   "execution_count": null,
   "metadata": {},
   "outputs": [],
   "source": [
    "# 지역별로 데이터를 분리\n",
    "locations = data[\"pick_rgn2_nm\"].unique()\n",
    "\n",
    "# 지역별 모델 및 예측 결과를 저장할 빈 딕셔너리\n",
    "arima_results = {}\n",
    "prophet_results = {}\n",
    "\n",
    "# 각 지역별로 ARIMA 및 Prophet 모델 훈련 및 예측 수행\n",
    "for location in locations:\n",
    "    data_location = data[data[\"pick_rgn2_nm\"] == location]\n",
    "    \n",
    "    # ARIMA 모델\n",
    "    ts_data_location = data_location[\"rider_cnt_2\"]\n",
    "    ts_data_location.index = pd.DatetimeIndex(data_location[\"datetime\"])\n",
    "    arima_model_location = SARIMAX(ts_data_location, order=(1, 1, 1), seasonal_order=(1, 1, 1, 24)).fit()\n",
    "    arima_forecast_location = arima_model_location.get_forecast(steps=24*7)\n",
    "    arima_results[location] = arima_forecast_location.predicted_mean\n",
    "    \n",
    "    # Prophet 모델\n",
    "    prophet_data_location = data_location[[\"datetime\", \"rider_cnt_2\"]]\n",
    "    prophet_data_location.columns = [\"ds\", \"y\"]\n",
    "    prophet_model_location = Prophet()\n",
    "    prophet_model_location.fit(prophet_data_location)\n",
    "    future_location = prophet_model_location.make_future_dataframe(periods=24*7, freq=\"H\")\n",
    "    prophet_forecast_location = prophet_model_location.predict(future_location)\n",
    "    prophet_results[location] = prophet_forecast_location[\"yhat\"].tail(24*7)\n"
   ]
  },
  {
   "cell_type": "code",
   "execution_count": null,
   "metadata": {},
   "outputs": [],
   "source": []
  }
 ],
 "metadata": {
  "kernelspec": {
   "display_name": "Python 3",
   "language": "python",
   "name": "python3"
  },
  "language_info": {
   "codemirror_mode": {
    "name": "ipython",
    "version": 3
   },
   "file_extension": ".py",
   "mimetype": "text/x-python",
   "name": "python",
   "nbconvert_exporter": "python",
   "pygments_lexer": "ipython3",
   "version": "3.9.6"
  },
  "orig_nbformat": 4
 },
 "nbformat": 4,
 "nbformat_minor": 2
}
